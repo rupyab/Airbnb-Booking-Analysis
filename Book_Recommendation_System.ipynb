{
  "cells": [
    {
      "cell_type": "markdown",
      "metadata": {
        "id": "view-in-github",
        "colab_type": "text"
      },
      "source": [
        "<a href=\"https://colab.research.google.com/github/rupyab/Airbnb-Booking-Analysis/blob/main/Book_Recommendation_System.ipynb\" target=\"_parent\"><img src=\"https://colab.research.google.com/assets/colab-badge.svg\" alt=\"Open In Colab\"/></a>"
      ]
    },
    {
      "cell_type": "markdown",
      "metadata": {
        "id": "vncDsAP0Gaoa"
      },
      "source": [
        "# **Project Name**    -\n",
        "\n"
      ]
    },
    {
      "cell_type": "markdown",
      "metadata": {
        "id": "beRrZCGUAJYm"
      },
      "source": [
        "##### **Project Type**    -Unsupervised ML - Book Recommendation System\n",
        "##### **Name**    - Rupesh Bangar\n"
      ]
    },
    {
      "cell_type": "markdown",
      "metadata": {
        "id": "FJNUwmbgGyua"
      },
      "source": [
        "# **Project Summary -**"
      ]
    },
    {
      "cell_type": "markdown",
      "metadata": {
        "id": "F6v_1wHtG2nS"
      },
      "source": [
        "Business Context\n",
        "\n",
        "During the last few decades, with the rise of Youtube, Amazon, Netflix, and many other such web services, recommender systems have taken more and more place in our lives. From e-commerce (suggest to buyers articles that could interest them) to online advertisement (suggest to users the right contents, matching their preferences), recommender systems are today unavoidable in our daily online journeys.\n",
        "\n",
        "In a very general way, recommender systems are algorithms aimed at suggesting relevant.\n",
        "\n",
        "items to users (items being movies to watch, text to read, products to buy, or anything else depending on industries). Recommender systems are really critical in some industries as they can generate a huge amount of income when they are efficient or also be a way to stand out significantly from competitors. The main objective is to create a book recommendation system for users.\n",
        "\n",
        "Dataset Description\n",
        "\n",
        "The Book-Crossing dataset comprises 3 files.\n",
        "\n",
        "Users:\n",
        "\n",
        "Contains the users. Note that user IDs (User-ID) have been anonymized and map to integers. Demographic data is provided (Location, Age) if available. Otherwise, these fields contain NULL values.\n",
        "\n",
        "Books:\n",
        "\n",
        "Books are identified by their respective ISBN. Invalid ISBNs have already been removed from the dataset. Moreover, some content-based information is given (Book-Title, Book-Author, Year-Of-Publication, Publisher), obtained from Amazon Web Services. Note that in the case of several authors, only the first is provided. URLs linking to cover images are also given, appearing in three different flavours (Image-URL-S, Image-URL-M, Image-URL-L), i.e., small, medium, large. These URLs point to the Amazon website.\n",
        "\n",
        "Ratings:\n",
        "\n",
        "Contains the book rating information. Ratings (Book-Rating) are either explicit, expressed on a scale from 1-10 (higher values denoting higher appreciation), or implicit, expressed by 0.\n",
        "\n"
      ]
    },
    {
      "cell_type": "markdown",
      "metadata": {
        "id": "w6K7xa23Elo4"
      },
      "source": [
        "# **GitHub Link -**"
      ]
    },
    {
      "cell_type": "markdown",
      "metadata": {
        "id": "h1o69JH3Eqqn"
      },
      "source": [
        "Provide your GitHub Link here."
      ]
    },
    {
      "cell_type": "markdown",
      "metadata": {
        "id": "yQaldy8SH6Dl"
      },
      "source": [
        "# **Problem Statement**\n"
      ]
    },
    {
      "cell_type": "markdown",
      "metadata": {
        "id": "DpeJGUA3kjGy"
      },
      "source": [
        "Understanding the Dataset and problem statement\n",
        "\n",
        "Performing necessary preprocessing steps to convert raw data into usable one.\n",
        "\n",
        "Modeling- Develop a recommender system which would accurately give book recommendations to the users.\n",
        "\n",
        "Brief note on how your project is useful to stakeholders?"
      ]
    },
    {
      "cell_type": "markdown",
      "metadata": {
        "id": "mDgbUHAGgjLW"
      },
      "source": [
        "# **General Guidelines** : -  "
      ]
    },
    {
      "cell_type": "markdown",
      "metadata": {
        "id": "ZrxVaUj-hHfC"
      },
      "source": [
        "1.   Well-structured, formatted, and commented code is required.\n",
        "2.   Exception Handling, Production Grade Code & Deployment Ready Code will be a plus. Those students will be awarded some additional credits.\n",
        "     \n",
        "     The additional credits will have advantages over other students during Star Student selection.\n",
        "       \n",
        "             [ Note: - Deployment Ready Code is defined as, the whole .ipynb notebook should be executable in one go\n",
        "                       without a single error logged. ]\n",
        "\n",
        "3.   Each and every logic should have proper comments.\n",
        "4. You may add as many number of charts you want. Make Sure for each and every chart the following format should be answered.\n",
        "        \n",
        "\n",
        "```\n",
        "# Chart visualization code\n",
        "```\n",
        "            \n",
        "\n",
        "*   Why did you pick the specific chart?\n",
        "*   What is/are the insight(s) found from the chart?\n",
        "* Will the gained insights help creating a positive business impact?\n",
        "Are there any insights that lead to negative growth? Justify with specific reason.\n",
        "\n",
        "5. You have to create at least 15 logical & meaningful charts having important insights.\n",
        "\n",
        "\n",
        "[ Hints : - Do the Vizualization in  a structured way while following \"UBM\" Rule.\n",
        "\n",
        "U - Univariate Analysis,\n",
        "\n",
        "B - Bivariate Analysis (Numerical - Categorical, Numerical - Numerical, Categorical - Categorical)\n",
        "\n",
        "M - Multivariate Analysis\n",
        " ]\n",
        "\n",
        "\n",
        "\n",
        "\n",
        "\n",
        "6. You may add more ml algorithms for model creation. Make sure for each and every algorithm, the following format should be answered.\n",
        "\n",
        "\n",
        "*   Explain the ML Model used and it's performance using Evaluation metric Score Chart.\n",
        "\n",
        "\n",
        "*   Cross- Validation & Hyperparameter Tuning\n",
        "\n",
        "*   Have you seen any improvement? Note down the improvement with updates Evaluation metric Score Chart.\n",
        "\n",
        "*   Explain each evaluation metric's indication towards business and the business impact pf the ML model used.\n",
        "\n",
        "\n",
        "\n",
        "\n",
        "\n",
        "\n",
        "\n",
        "\n",
        "\n",
        "\n",
        "\n",
        "\n",
        "\n",
        "\n",
        "\n",
        "\n",
        "\n",
        "\n"
      ]
    },
    {
      "cell_type": "markdown",
      "metadata": {
        "id": "O_i_v8NEhb9l"
      },
      "source": [
        "# ***Let's Begin !***"
      ]
    },
    {
      "cell_type": "markdown",
      "metadata": {
        "id": "HhfV-JJviCcP"
      },
      "source": [
        "## ***1. Know Your Data***"
      ]
    },
    {
      "cell_type": "markdown",
      "metadata": {
        "id": "Y3lxredqlCYt"
      },
      "source": [
        "### Import Libraries"
      ]
    },
    {
      "cell_type": "code",
      "execution_count": 1,
      "metadata": {
        "id": "M8Vqi-pPk-HR"
      },
      "outputs": [],
      "source": [
        "# Import Libraries\n",
        "import pandas as pd\n",
        "import numpy as np\n",
        "import matplotlib.pyplot as plt\n",
        "import seaborn as sns\n",
        "import warnings\n",
        "warnings.filterwarnings('ignore')"
      ]
    },
    {
      "cell_type": "markdown",
      "metadata": {
        "id": "3RnN4peoiCZX"
      },
      "source": [
        "### Dataset Loading"
      ]
    },
    {
      "cell_type": "code",
      "execution_count": 2,
      "metadata": {
        "id": "4CkvbW_SlZ_R"
      },
      "outputs": [],
      "source": [
        "# Load Dataset\n",
        "b= pd.read_csv('Books.csv')\n",
        "u= pd.read_csv('Users.csv')\n",
        "r= pd.read_csv('Ratings.csv')"
      ]
    },
    {
      "cell_type": "markdown",
      "metadata": {
        "id": "x71ZqKXriCWQ"
      },
      "source": [
        "### Dataset First View"
      ]
    },
    {
      "cell_type": "code",
      "execution_count": 3,
      "metadata": {
        "colab": {
          "base_uri": "https://localhost:8080/",
          "height": 868
        },
        "id": "LWNFOSvLl09H",
        "outputId": "3e053a24-23aa-4e2b-d0b7-0e2a633c78d5"
      },
      "outputs": [
        {
          "output_type": "stream",
          "name": "stdout",
          "text": [
            "Books Dataset\n"
          ]
        },
        {
          "output_type": "display_data",
          "data": {
            "text/plain": [
              "         ISBN                                         Book-Title  \\\n",
              "0  0195153448                                Classical Mythology   \n",
              "1  0002005018                                       Clara Callan   \n",
              "2  0060973129                               Decision in Normandy   \n",
              "3  0374157065  Flu: The Story of the Great Influenza Pandemic...   \n",
              "4  0393045218                             The Mummies of Urumchi   \n",
              "\n",
              "            Book-Author Year-Of-Publication                   Publisher  \\\n",
              "0    Mark P. O. Morford                2002     Oxford University Press   \n",
              "1  Richard Bruce Wright                2001       HarperFlamingo Canada   \n",
              "2          Carlo D'Este                1991             HarperPerennial   \n",
              "3      Gina Bari Kolata                1999        Farrar Straus Giroux   \n",
              "4       E. J. W. Barber                1999  W. W. Norton &amp; Company   \n",
              "\n",
              "                                         Image-URL-S  \\\n",
              "0  http://images.amazon.com/images/P/0195153448.0...   \n",
              "1  http://images.amazon.com/images/P/0002005018.0...   \n",
              "2  http://images.amazon.com/images/P/0060973129.0...   \n",
              "3  http://images.amazon.com/images/P/0374157065.0...   \n",
              "4  http://images.amazon.com/images/P/0393045218.0...   \n",
              "\n",
              "                                         Image-URL-M  \\\n",
              "0  http://images.amazon.com/images/P/0195153448.0...   \n",
              "1  http://images.amazon.com/images/P/0002005018.0...   \n",
              "2  http://images.amazon.com/images/P/0060973129.0...   \n",
              "3  http://images.amazon.com/images/P/0374157065.0...   \n",
              "4  http://images.amazon.com/images/P/0393045218.0...   \n",
              "\n",
              "                                         Image-URL-L  \n",
              "0  http://images.amazon.com/images/P/0195153448.0...  \n",
              "1  http://images.amazon.com/images/P/0002005018.0...  \n",
              "2  http://images.amazon.com/images/P/0060973129.0...  \n",
              "3  http://images.amazon.com/images/P/0374157065.0...  \n",
              "4  http://images.amazon.com/images/P/0393045218.0...  "
            ],
            "text/html": [
              "\n",
              "  <div id=\"df-906ab0d8-9e29-47d3-b0a3-2bbb1ea7ca58\" class=\"colab-df-container\">\n",
              "    <div>\n",
              "<style scoped>\n",
              "    .dataframe tbody tr th:only-of-type {\n",
              "        vertical-align: middle;\n",
              "    }\n",
              "\n",
              "    .dataframe tbody tr th {\n",
              "        vertical-align: top;\n",
              "    }\n",
              "\n",
              "    .dataframe thead th {\n",
              "        text-align: right;\n",
              "    }\n",
              "</style>\n",
              "<table border=\"1\" class=\"dataframe\">\n",
              "  <thead>\n",
              "    <tr style=\"text-align: right;\">\n",
              "      <th></th>\n",
              "      <th>ISBN</th>\n",
              "      <th>Book-Title</th>\n",
              "      <th>Book-Author</th>\n",
              "      <th>Year-Of-Publication</th>\n",
              "      <th>Publisher</th>\n",
              "      <th>Image-URL-S</th>\n",
              "      <th>Image-URL-M</th>\n",
              "      <th>Image-URL-L</th>\n",
              "    </tr>\n",
              "  </thead>\n",
              "  <tbody>\n",
              "    <tr>\n",
              "      <th>0</th>\n",
              "      <td>0195153448</td>\n",
              "      <td>Classical Mythology</td>\n",
              "      <td>Mark P. O. Morford</td>\n",
              "      <td>2002</td>\n",
              "      <td>Oxford University Press</td>\n",
              "      <td>http://images.amazon.com/images/P/0195153448.0...</td>\n",
              "      <td>http://images.amazon.com/images/P/0195153448.0...</td>\n",
              "      <td>http://images.amazon.com/images/P/0195153448.0...</td>\n",
              "    </tr>\n",
              "    <tr>\n",
              "      <th>1</th>\n",
              "      <td>0002005018</td>\n",
              "      <td>Clara Callan</td>\n",
              "      <td>Richard Bruce Wright</td>\n",
              "      <td>2001</td>\n",
              "      <td>HarperFlamingo Canada</td>\n",
              "      <td>http://images.amazon.com/images/P/0002005018.0...</td>\n",
              "      <td>http://images.amazon.com/images/P/0002005018.0...</td>\n",
              "      <td>http://images.amazon.com/images/P/0002005018.0...</td>\n",
              "    </tr>\n",
              "    <tr>\n",
              "      <th>2</th>\n",
              "      <td>0060973129</td>\n",
              "      <td>Decision in Normandy</td>\n",
              "      <td>Carlo D'Este</td>\n",
              "      <td>1991</td>\n",
              "      <td>HarperPerennial</td>\n",
              "      <td>http://images.amazon.com/images/P/0060973129.0...</td>\n",
              "      <td>http://images.amazon.com/images/P/0060973129.0...</td>\n",
              "      <td>http://images.amazon.com/images/P/0060973129.0...</td>\n",
              "    </tr>\n",
              "    <tr>\n",
              "      <th>3</th>\n",
              "      <td>0374157065</td>\n",
              "      <td>Flu: The Story of the Great Influenza Pandemic...</td>\n",
              "      <td>Gina Bari Kolata</td>\n",
              "      <td>1999</td>\n",
              "      <td>Farrar Straus Giroux</td>\n",
              "      <td>http://images.amazon.com/images/P/0374157065.0...</td>\n",
              "      <td>http://images.amazon.com/images/P/0374157065.0...</td>\n",
              "      <td>http://images.amazon.com/images/P/0374157065.0...</td>\n",
              "    </tr>\n",
              "    <tr>\n",
              "      <th>4</th>\n",
              "      <td>0393045218</td>\n",
              "      <td>The Mummies of Urumchi</td>\n",
              "      <td>E. J. W. Barber</td>\n",
              "      <td>1999</td>\n",
              "      <td>W. W. Norton &amp;amp; Company</td>\n",
              "      <td>http://images.amazon.com/images/P/0393045218.0...</td>\n",
              "      <td>http://images.amazon.com/images/P/0393045218.0...</td>\n",
              "      <td>http://images.amazon.com/images/P/0393045218.0...</td>\n",
              "    </tr>\n",
              "  </tbody>\n",
              "</table>\n",
              "</div>\n",
              "    <div class=\"colab-df-buttons\">\n",
              "\n",
              "  <div class=\"colab-df-container\">\n",
              "    <button class=\"colab-df-convert\" onclick=\"convertToInteractive('df-906ab0d8-9e29-47d3-b0a3-2bbb1ea7ca58')\"\n",
              "            title=\"Convert this dataframe to an interactive table.\"\n",
              "            style=\"display:none;\">\n",
              "\n",
              "  <svg xmlns=\"http://www.w3.org/2000/svg\" height=\"24px\" viewBox=\"0 -960 960 960\">\n",
              "    <path d=\"M120-120v-720h720v720H120Zm60-500h600v-160H180v160Zm220 220h160v-160H400v160Zm0 220h160v-160H400v160ZM180-400h160v-160H180v160Zm440 0h160v-160H620v160ZM180-180h160v-160H180v160Zm440 0h160v-160H620v160Z\"/>\n",
              "  </svg>\n",
              "    </button>\n",
              "\n",
              "  <style>\n",
              "    .colab-df-container {\n",
              "      display:flex;\n",
              "      gap: 12px;\n",
              "    }\n",
              "\n",
              "    .colab-df-convert {\n",
              "      background-color: #E8F0FE;\n",
              "      border: none;\n",
              "      border-radius: 50%;\n",
              "      cursor: pointer;\n",
              "      display: none;\n",
              "      fill: #1967D2;\n",
              "      height: 32px;\n",
              "      padding: 0 0 0 0;\n",
              "      width: 32px;\n",
              "    }\n",
              "\n",
              "    .colab-df-convert:hover {\n",
              "      background-color: #E2EBFA;\n",
              "      box-shadow: 0px 1px 2px rgba(60, 64, 67, 0.3), 0px 1px 3px 1px rgba(60, 64, 67, 0.15);\n",
              "      fill: #174EA6;\n",
              "    }\n",
              "\n",
              "    .colab-df-buttons div {\n",
              "      margin-bottom: 4px;\n",
              "    }\n",
              "\n",
              "    [theme=dark] .colab-df-convert {\n",
              "      background-color: #3B4455;\n",
              "      fill: #D2E3FC;\n",
              "    }\n",
              "\n",
              "    [theme=dark] .colab-df-convert:hover {\n",
              "      background-color: #434B5C;\n",
              "      box-shadow: 0px 1px 3px 1px rgba(0, 0, 0, 0.15);\n",
              "      filter: drop-shadow(0px 1px 2px rgba(0, 0, 0, 0.3));\n",
              "      fill: #FFFFFF;\n",
              "    }\n",
              "  </style>\n",
              "\n",
              "    <script>\n",
              "      const buttonEl =\n",
              "        document.querySelector('#df-906ab0d8-9e29-47d3-b0a3-2bbb1ea7ca58 button.colab-df-convert');\n",
              "      buttonEl.style.display =\n",
              "        google.colab.kernel.accessAllowed ? 'block' : 'none';\n",
              "\n",
              "      async function convertToInteractive(key) {\n",
              "        const element = document.querySelector('#df-906ab0d8-9e29-47d3-b0a3-2bbb1ea7ca58');\n",
              "        const dataTable =\n",
              "          await google.colab.kernel.invokeFunction('convertToInteractive',\n",
              "                                                    [key], {});\n",
              "        if (!dataTable) return;\n",
              "\n",
              "        const docLinkHtml = 'Like what you see? Visit the ' +\n",
              "          '<a target=\"_blank\" href=https://colab.research.google.com/notebooks/data_table.ipynb>data table notebook</a>'\n",
              "          + ' to learn more about interactive tables.';\n",
              "        element.innerHTML = '';\n",
              "        dataTable['output_type'] = 'display_data';\n",
              "        await google.colab.output.renderOutput(dataTable, element);\n",
              "        const docLink = document.createElement('div');\n",
              "        docLink.innerHTML = docLinkHtml;\n",
              "        element.appendChild(docLink);\n",
              "      }\n",
              "    </script>\n",
              "  </div>\n",
              "\n",
              "\n",
              "<div id=\"df-82c97965-82b6-4720-bf85-8578a4580c8b\">\n",
              "  <button class=\"colab-df-quickchart\" onclick=\"quickchart('df-82c97965-82b6-4720-bf85-8578a4580c8b')\"\n",
              "            title=\"Suggest charts\"\n",
              "            style=\"display:none;\">\n",
              "\n",
              "<svg xmlns=\"http://www.w3.org/2000/svg\" height=\"24px\"viewBox=\"0 0 24 24\"\n",
              "     width=\"24px\">\n",
              "    <g>\n",
              "        <path d=\"M19 3H5c-1.1 0-2 .9-2 2v14c0 1.1.9 2 2 2h14c1.1 0 2-.9 2-2V5c0-1.1-.9-2-2-2zM9 17H7v-7h2v7zm4 0h-2V7h2v10zm4 0h-2v-4h2v4z\"/>\n",
              "    </g>\n",
              "</svg>\n",
              "  </button>\n",
              "\n",
              "<style>\n",
              "  .colab-df-quickchart {\n",
              "      --bg-color: #E8F0FE;\n",
              "      --fill-color: #1967D2;\n",
              "      --hover-bg-color: #E2EBFA;\n",
              "      --hover-fill-color: #174EA6;\n",
              "      --disabled-fill-color: #AAA;\n",
              "      --disabled-bg-color: #DDD;\n",
              "  }\n",
              "\n",
              "  [theme=dark] .colab-df-quickchart {\n",
              "      --bg-color: #3B4455;\n",
              "      --fill-color: #D2E3FC;\n",
              "      --hover-bg-color: #434B5C;\n",
              "      --hover-fill-color: #FFFFFF;\n",
              "      --disabled-bg-color: #3B4455;\n",
              "      --disabled-fill-color: #666;\n",
              "  }\n",
              "\n",
              "  .colab-df-quickchart {\n",
              "    background-color: var(--bg-color);\n",
              "    border: none;\n",
              "    border-radius: 50%;\n",
              "    cursor: pointer;\n",
              "    display: none;\n",
              "    fill: var(--fill-color);\n",
              "    height: 32px;\n",
              "    padding: 0;\n",
              "    width: 32px;\n",
              "  }\n",
              "\n",
              "  .colab-df-quickchart:hover {\n",
              "    background-color: var(--hover-bg-color);\n",
              "    box-shadow: 0 1px 2px rgba(60, 64, 67, 0.3), 0 1px 3px 1px rgba(60, 64, 67, 0.15);\n",
              "    fill: var(--button-hover-fill-color);\n",
              "  }\n",
              "\n",
              "  .colab-df-quickchart-complete:disabled,\n",
              "  .colab-df-quickchart-complete:disabled:hover {\n",
              "    background-color: var(--disabled-bg-color);\n",
              "    fill: var(--disabled-fill-color);\n",
              "    box-shadow: none;\n",
              "  }\n",
              "\n",
              "  .colab-df-spinner {\n",
              "    border: 2px solid var(--fill-color);\n",
              "    border-color: transparent;\n",
              "    border-bottom-color: var(--fill-color);\n",
              "    animation:\n",
              "      spin 1s steps(1) infinite;\n",
              "  }\n",
              "\n",
              "  @keyframes spin {\n",
              "    0% {\n",
              "      border-color: transparent;\n",
              "      border-bottom-color: var(--fill-color);\n",
              "      border-left-color: var(--fill-color);\n",
              "    }\n",
              "    20% {\n",
              "      border-color: transparent;\n",
              "      border-left-color: var(--fill-color);\n",
              "      border-top-color: var(--fill-color);\n",
              "    }\n",
              "    30% {\n",
              "      border-color: transparent;\n",
              "      border-left-color: var(--fill-color);\n",
              "      border-top-color: var(--fill-color);\n",
              "      border-right-color: var(--fill-color);\n",
              "    }\n",
              "    40% {\n",
              "      border-color: transparent;\n",
              "      border-right-color: var(--fill-color);\n",
              "      border-top-color: var(--fill-color);\n",
              "    }\n",
              "    60% {\n",
              "      border-color: transparent;\n",
              "      border-right-color: var(--fill-color);\n",
              "    }\n",
              "    80% {\n",
              "      border-color: transparent;\n",
              "      border-right-color: var(--fill-color);\n",
              "      border-bottom-color: var(--fill-color);\n",
              "    }\n",
              "    90% {\n",
              "      border-color: transparent;\n",
              "      border-bottom-color: var(--fill-color);\n",
              "    }\n",
              "  }\n",
              "</style>\n",
              "\n",
              "  <script>\n",
              "    async function quickchart(key) {\n",
              "      const quickchartButtonEl =\n",
              "        document.querySelector('#' + key + ' button');\n",
              "      quickchartButtonEl.disabled = true;  // To prevent multiple clicks.\n",
              "      quickchartButtonEl.classList.add('colab-df-spinner');\n",
              "      try {\n",
              "        const charts = await google.colab.kernel.invokeFunction(\n",
              "            'suggestCharts', [key], {});\n",
              "      } catch (error) {\n",
              "        console.error('Error during call to suggestCharts:', error);\n",
              "      }\n",
              "      quickchartButtonEl.classList.remove('colab-df-spinner');\n",
              "      quickchartButtonEl.classList.add('colab-df-quickchart-complete');\n",
              "    }\n",
              "    (() => {\n",
              "      let quickchartButtonEl =\n",
              "        document.querySelector('#df-82c97965-82b6-4720-bf85-8578a4580c8b button');\n",
              "      quickchartButtonEl.style.display =\n",
              "        google.colab.kernel.accessAllowed ? 'block' : 'none';\n",
              "    })();\n",
              "  </script>\n",
              "</div>\n",
              "\n",
              "    </div>\n",
              "  </div>\n"
            ],
            "application/vnd.google.colaboratory.intrinsic+json": {
              "type": "dataframe",
              "summary": "{\n  \"name\": \"display(r\",\n  \"rows\": 5,\n  \"fields\": [\n    {\n      \"column\": \"ISBN\",\n      \"properties\": {\n        \"dtype\": \"string\",\n        \"num_unique_values\": 5,\n        \"samples\": [\n          \"0002005018\",\n          \"0393045218\",\n          \"0060973129\"\n        ],\n        \"semantic_type\": \"\",\n        \"description\": \"\"\n      }\n    },\n    {\n      \"column\": \"Book-Title\",\n      \"properties\": {\n        \"dtype\": \"string\",\n        \"num_unique_values\": 5,\n        \"samples\": [\n          \"Clara Callan\",\n          \"The Mummies of Urumchi\",\n          \"Decision in Normandy\"\n        ],\n        \"semantic_type\": \"\",\n        \"description\": \"\"\n      }\n    },\n    {\n      \"column\": \"Book-Author\",\n      \"properties\": {\n        \"dtype\": \"string\",\n        \"num_unique_values\": 5,\n        \"samples\": [\n          \"Richard Bruce Wright\",\n          \"E. J. W. Barber\",\n          \"Carlo D'Este\"\n        ],\n        \"semantic_type\": \"\",\n        \"description\": \"\"\n      }\n    },\n    {\n      \"column\": \"Year-Of-Publication\",\n      \"properties\": {\n        \"dtype\": \"date\",\n        \"min\": 1991,\n        \"max\": 2002,\n        \"num_unique_values\": 4,\n        \"samples\": [\n          2001,\n          1999,\n          2002\n        ],\n        \"semantic_type\": \"\",\n        \"description\": \"\"\n      }\n    },\n    {\n      \"column\": \"Publisher\",\n      \"properties\": {\n        \"dtype\": \"string\",\n        \"num_unique_values\": 5,\n        \"samples\": [\n          \"HarperFlamingo Canada\",\n          \"W. W. Norton &amp; Company\",\n          \"HarperPerennial\"\n        ],\n        \"semantic_type\": \"\",\n        \"description\": \"\"\n      }\n    },\n    {\n      \"column\": \"Image-URL-S\",\n      \"properties\": {\n        \"dtype\": \"string\",\n        \"num_unique_values\": 5,\n        \"samples\": [\n          \"http://images.amazon.com/images/P/0002005018.01.THUMBZZZ.jpg\",\n          \"http://images.amazon.com/images/P/0393045218.01.THUMBZZZ.jpg\",\n          \"http://images.amazon.com/images/P/0060973129.01.THUMBZZZ.jpg\"\n        ],\n        \"semantic_type\": \"\",\n        \"description\": \"\"\n      }\n    },\n    {\n      \"column\": \"Image-URL-M\",\n      \"properties\": {\n        \"dtype\": \"string\",\n        \"num_unique_values\": 5,\n        \"samples\": [\n          \"http://images.amazon.com/images/P/0002005018.01.MZZZZZZZ.jpg\",\n          \"http://images.amazon.com/images/P/0393045218.01.MZZZZZZZ.jpg\",\n          \"http://images.amazon.com/images/P/0060973129.01.MZZZZZZZ.jpg\"\n        ],\n        \"semantic_type\": \"\",\n        \"description\": \"\"\n      }\n    },\n    {\n      \"column\": \"Image-URL-L\",\n      \"properties\": {\n        \"dtype\": \"string\",\n        \"num_unique_values\": 5,\n        \"samples\": [\n          \"http://images.amazon.com/images/P/0002005018.01.LZZZZZZZ.jpg\",\n          \"http://images.amazon.com/images/P/0393045218.01.LZZZZZZZ.jpg\",\n          \"http://images.amazon.com/images/P/0060973129.01.LZZZZZZZ.jpg\"\n        ],\n        \"semantic_type\": \"\",\n        \"description\": \"\"\n      }\n    }\n  ]\n}"
            }
          },
          "metadata": {}
        },
        {
          "output_type": "stream",
          "name": "stdout",
          "text": [
            "Users Dataset\n"
          ]
        },
        {
          "output_type": "display_data",
          "data": {
            "text/plain": [
              "   User-ID                            Location   Age\n",
              "0        1                  nyc, new york, usa   NaN\n",
              "1        2           stockton, california, usa  18.0\n",
              "2        3     moscow, yukon territory, russia   NaN\n",
              "3        4           porto, v.n.gaia, portugal  17.0\n",
              "4        5  farnborough, hants, united kingdom   NaN"
            ],
            "text/html": [
              "\n",
              "  <div id=\"df-218568c4-88aa-4c22-85cf-b2d4c7190079\" class=\"colab-df-container\">\n",
              "    <div>\n",
              "<style scoped>\n",
              "    .dataframe tbody tr th:only-of-type {\n",
              "        vertical-align: middle;\n",
              "    }\n",
              "\n",
              "    .dataframe tbody tr th {\n",
              "        vertical-align: top;\n",
              "    }\n",
              "\n",
              "    .dataframe thead th {\n",
              "        text-align: right;\n",
              "    }\n",
              "</style>\n",
              "<table border=\"1\" class=\"dataframe\">\n",
              "  <thead>\n",
              "    <tr style=\"text-align: right;\">\n",
              "      <th></th>\n",
              "      <th>User-ID</th>\n",
              "      <th>Location</th>\n",
              "      <th>Age</th>\n",
              "    </tr>\n",
              "  </thead>\n",
              "  <tbody>\n",
              "    <tr>\n",
              "      <th>0</th>\n",
              "      <td>1</td>\n",
              "      <td>nyc, new york, usa</td>\n",
              "      <td>NaN</td>\n",
              "    </tr>\n",
              "    <tr>\n",
              "      <th>1</th>\n",
              "      <td>2</td>\n",
              "      <td>stockton, california, usa</td>\n",
              "      <td>18.0</td>\n",
              "    </tr>\n",
              "    <tr>\n",
              "      <th>2</th>\n",
              "      <td>3</td>\n",
              "      <td>moscow, yukon territory, russia</td>\n",
              "      <td>NaN</td>\n",
              "    </tr>\n",
              "    <tr>\n",
              "      <th>3</th>\n",
              "      <td>4</td>\n",
              "      <td>porto, v.n.gaia, portugal</td>\n",
              "      <td>17.0</td>\n",
              "    </tr>\n",
              "    <tr>\n",
              "      <th>4</th>\n",
              "      <td>5</td>\n",
              "      <td>farnborough, hants, united kingdom</td>\n",
              "      <td>NaN</td>\n",
              "    </tr>\n",
              "  </tbody>\n",
              "</table>\n",
              "</div>\n",
              "    <div class=\"colab-df-buttons\">\n",
              "\n",
              "  <div class=\"colab-df-container\">\n",
              "    <button class=\"colab-df-convert\" onclick=\"convertToInteractive('df-218568c4-88aa-4c22-85cf-b2d4c7190079')\"\n",
              "            title=\"Convert this dataframe to an interactive table.\"\n",
              "            style=\"display:none;\">\n",
              "\n",
              "  <svg xmlns=\"http://www.w3.org/2000/svg\" height=\"24px\" viewBox=\"0 -960 960 960\">\n",
              "    <path d=\"M120-120v-720h720v720H120Zm60-500h600v-160H180v160Zm220 220h160v-160H400v160Zm0 220h160v-160H400v160ZM180-400h160v-160H180v160Zm440 0h160v-160H620v160ZM180-180h160v-160H180v160Zm440 0h160v-160H620v160Z\"/>\n",
              "  </svg>\n",
              "    </button>\n",
              "\n",
              "  <style>\n",
              "    .colab-df-container {\n",
              "      display:flex;\n",
              "      gap: 12px;\n",
              "    }\n",
              "\n",
              "    .colab-df-convert {\n",
              "      background-color: #E8F0FE;\n",
              "      border: none;\n",
              "      border-radius: 50%;\n",
              "      cursor: pointer;\n",
              "      display: none;\n",
              "      fill: #1967D2;\n",
              "      height: 32px;\n",
              "      padding: 0 0 0 0;\n",
              "      width: 32px;\n",
              "    }\n",
              "\n",
              "    .colab-df-convert:hover {\n",
              "      background-color: #E2EBFA;\n",
              "      box-shadow: 0px 1px 2px rgba(60, 64, 67, 0.3), 0px 1px 3px 1px rgba(60, 64, 67, 0.15);\n",
              "      fill: #174EA6;\n",
              "    }\n",
              "\n",
              "    .colab-df-buttons div {\n",
              "      margin-bottom: 4px;\n",
              "    }\n",
              "\n",
              "    [theme=dark] .colab-df-convert {\n",
              "      background-color: #3B4455;\n",
              "      fill: #D2E3FC;\n",
              "    }\n",
              "\n",
              "    [theme=dark] .colab-df-convert:hover {\n",
              "      background-color: #434B5C;\n",
              "      box-shadow: 0px 1px 3px 1px rgba(0, 0, 0, 0.15);\n",
              "      filter: drop-shadow(0px 1px 2px rgba(0, 0, 0, 0.3));\n",
              "      fill: #FFFFFF;\n",
              "    }\n",
              "  </style>\n",
              "\n",
              "    <script>\n",
              "      const buttonEl =\n",
              "        document.querySelector('#df-218568c4-88aa-4c22-85cf-b2d4c7190079 button.colab-df-convert');\n",
              "      buttonEl.style.display =\n",
              "        google.colab.kernel.accessAllowed ? 'block' : 'none';\n",
              "\n",
              "      async function convertToInteractive(key) {\n",
              "        const element = document.querySelector('#df-218568c4-88aa-4c22-85cf-b2d4c7190079');\n",
              "        const dataTable =\n",
              "          await google.colab.kernel.invokeFunction('convertToInteractive',\n",
              "                                                    [key], {});\n",
              "        if (!dataTable) return;\n",
              "\n",
              "        const docLinkHtml = 'Like what you see? Visit the ' +\n",
              "          '<a target=\"_blank\" href=https://colab.research.google.com/notebooks/data_table.ipynb>data table notebook</a>'\n",
              "          + ' to learn more about interactive tables.';\n",
              "        element.innerHTML = '';\n",
              "        dataTable['output_type'] = 'display_data';\n",
              "        await google.colab.output.renderOutput(dataTable, element);\n",
              "        const docLink = document.createElement('div');\n",
              "        docLink.innerHTML = docLinkHtml;\n",
              "        element.appendChild(docLink);\n",
              "      }\n",
              "    </script>\n",
              "  </div>\n",
              "\n",
              "\n",
              "<div id=\"df-c730ad03-08a0-43af-b2d9-ee1075e26311\">\n",
              "  <button class=\"colab-df-quickchart\" onclick=\"quickchart('df-c730ad03-08a0-43af-b2d9-ee1075e26311')\"\n",
              "            title=\"Suggest charts\"\n",
              "            style=\"display:none;\">\n",
              "\n",
              "<svg xmlns=\"http://www.w3.org/2000/svg\" height=\"24px\"viewBox=\"0 0 24 24\"\n",
              "     width=\"24px\">\n",
              "    <g>\n",
              "        <path d=\"M19 3H5c-1.1 0-2 .9-2 2v14c0 1.1.9 2 2 2h14c1.1 0 2-.9 2-2V5c0-1.1-.9-2-2-2zM9 17H7v-7h2v7zm4 0h-2V7h2v10zm4 0h-2v-4h2v4z\"/>\n",
              "    </g>\n",
              "</svg>\n",
              "  </button>\n",
              "\n",
              "<style>\n",
              "  .colab-df-quickchart {\n",
              "      --bg-color: #E8F0FE;\n",
              "      --fill-color: #1967D2;\n",
              "      --hover-bg-color: #E2EBFA;\n",
              "      --hover-fill-color: #174EA6;\n",
              "      --disabled-fill-color: #AAA;\n",
              "      --disabled-bg-color: #DDD;\n",
              "  }\n",
              "\n",
              "  [theme=dark] .colab-df-quickchart {\n",
              "      --bg-color: #3B4455;\n",
              "      --fill-color: #D2E3FC;\n",
              "      --hover-bg-color: #434B5C;\n",
              "      --hover-fill-color: #FFFFFF;\n",
              "      --disabled-bg-color: #3B4455;\n",
              "      --disabled-fill-color: #666;\n",
              "  }\n",
              "\n",
              "  .colab-df-quickchart {\n",
              "    background-color: var(--bg-color);\n",
              "    border: none;\n",
              "    border-radius: 50%;\n",
              "    cursor: pointer;\n",
              "    display: none;\n",
              "    fill: var(--fill-color);\n",
              "    height: 32px;\n",
              "    padding: 0;\n",
              "    width: 32px;\n",
              "  }\n",
              "\n",
              "  .colab-df-quickchart:hover {\n",
              "    background-color: var(--hover-bg-color);\n",
              "    box-shadow: 0 1px 2px rgba(60, 64, 67, 0.3), 0 1px 3px 1px rgba(60, 64, 67, 0.15);\n",
              "    fill: var(--button-hover-fill-color);\n",
              "  }\n",
              "\n",
              "  .colab-df-quickchart-complete:disabled,\n",
              "  .colab-df-quickchart-complete:disabled:hover {\n",
              "    background-color: var(--disabled-bg-color);\n",
              "    fill: var(--disabled-fill-color);\n",
              "    box-shadow: none;\n",
              "  }\n",
              "\n",
              "  .colab-df-spinner {\n",
              "    border: 2px solid var(--fill-color);\n",
              "    border-color: transparent;\n",
              "    border-bottom-color: var(--fill-color);\n",
              "    animation:\n",
              "      spin 1s steps(1) infinite;\n",
              "  }\n",
              "\n",
              "  @keyframes spin {\n",
              "    0% {\n",
              "      border-color: transparent;\n",
              "      border-bottom-color: var(--fill-color);\n",
              "      border-left-color: var(--fill-color);\n",
              "    }\n",
              "    20% {\n",
              "      border-color: transparent;\n",
              "      border-left-color: var(--fill-color);\n",
              "      border-top-color: var(--fill-color);\n",
              "    }\n",
              "    30% {\n",
              "      border-color: transparent;\n",
              "      border-left-color: var(--fill-color);\n",
              "      border-top-color: var(--fill-color);\n",
              "      border-right-color: var(--fill-color);\n",
              "    }\n",
              "    40% {\n",
              "      border-color: transparent;\n",
              "      border-right-color: var(--fill-color);\n",
              "      border-top-color: var(--fill-color);\n",
              "    }\n",
              "    60% {\n",
              "      border-color: transparent;\n",
              "      border-right-color: var(--fill-color);\n",
              "    }\n",
              "    80% {\n",
              "      border-color: transparent;\n",
              "      border-right-color: var(--fill-color);\n",
              "      border-bottom-color: var(--fill-color);\n",
              "    }\n",
              "    90% {\n",
              "      border-color: transparent;\n",
              "      border-bottom-color: var(--fill-color);\n",
              "    }\n",
              "  }\n",
              "</style>\n",
              "\n",
              "  <script>\n",
              "    async function quickchart(key) {\n",
              "      const quickchartButtonEl =\n",
              "        document.querySelector('#' + key + ' button');\n",
              "      quickchartButtonEl.disabled = true;  // To prevent multiple clicks.\n",
              "      quickchartButtonEl.classList.add('colab-df-spinner');\n",
              "      try {\n",
              "        const charts = await google.colab.kernel.invokeFunction(\n",
              "            'suggestCharts', [key], {});\n",
              "      } catch (error) {\n",
              "        console.error('Error during call to suggestCharts:', error);\n",
              "      }\n",
              "      quickchartButtonEl.classList.remove('colab-df-spinner');\n",
              "      quickchartButtonEl.classList.add('colab-df-quickchart-complete');\n",
              "    }\n",
              "    (() => {\n",
              "      let quickchartButtonEl =\n",
              "        document.querySelector('#df-c730ad03-08a0-43af-b2d9-ee1075e26311 button');\n",
              "      quickchartButtonEl.style.display =\n",
              "        google.colab.kernel.accessAllowed ? 'block' : 'none';\n",
              "    })();\n",
              "  </script>\n",
              "</div>\n",
              "\n",
              "    </div>\n",
              "  </div>\n"
            ],
            "application/vnd.google.colaboratory.intrinsic+json": {
              "type": "dataframe",
              "summary": "{\n  \"name\": \"display(r\",\n  \"rows\": 5,\n  \"fields\": [\n    {\n      \"column\": \"User-ID\",\n      \"properties\": {\n        \"dtype\": \"number\",\n        \"std\": 1,\n        \"min\": 1,\n        \"max\": 5,\n        \"num_unique_values\": 5,\n        \"samples\": [\n          2,\n          5,\n          3\n        ],\n        \"semantic_type\": \"\",\n        \"description\": \"\"\n      }\n    },\n    {\n      \"column\": \"Location\",\n      \"properties\": {\n        \"dtype\": \"string\",\n        \"num_unique_values\": 5,\n        \"samples\": [\n          \"stockton, california, usa\",\n          \"farnborough, hants, united kingdom\",\n          \"moscow, yukon territory, russia\"\n        ],\n        \"semantic_type\": \"\",\n        \"description\": \"\"\n      }\n    },\n    {\n      \"column\": \"Age\",\n      \"properties\": {\n        \"dtype\": \"number\",\n        \"std\": 0.7071067811865476,\n        \"min\": 17.0,\n        \"max\": 18.0,\n        \"num_unique_values\": 2,\n        \"samples\": [\n          17.0,\n          18.0\n        ],\n        \"semantic_type\": \"\",\n        \"description\": \"\"\n      }\n    }\n  ]\n}"
            }
          },
          "metadata": {}
        },
        {
          "output_type": "stream",
          "name": "stdout",
          "text": [
            "Ratings Dataset\n"
          ]
        },
        {
          "output_type": "display_data",
          "data": {
            "text/plain": [
              "   User-ID        ISBN  Book-Rating\n",
              "0   276725  034545104X            0\n",
              "1   276726  0155061224            5\n",
              "2   276727  0446520802            0\n",
              "3   276729  052165615X            3\n",
              "4   276729  0521795028            6"
            ],
            "text/html": [
              "\n",
              "  <div id=\"df-bcaaa6ad-fafe-4c04-8f06-98f8c3757e12\" class=\"colab-df-container\">\n",
              "    <div>\n",
              "<style scoped>\n",
              "    .dataframe tbody tr th:only-of-type {\n",
              "        vertical-align: middle;\n",
              "    }\n",
              "\n",
              "    .dataframe tbody tr th {\n",
              "        vertical-align: top;\n",
              "    }\n",
              "\n",
              "    .dataframe thead th {\n",
              "        text-align: right;\n",
              "    }\n",
              "</style>\n",
              "<table border=\"1\" class=\"dataframe\">\n",
              "  <thead>\n",
              "    <tr style=\"text-align: right;\">\n",
              "      <th></th>\n",
              "      <th>User-ID</th>\n",
              "      <th>ISBN</th>\n",
              "      <th>Book-Rating</th>\n",
              "    </tr>\n",
              "  </thead>\n",
              "  <tbody>\n",
              "    <tr>\n",
              "      <th>0</th>\n",
              "      <td>276725</td>\n",
              "      <td>034545104X</td>\n",
              "      <td>0</td>\n",
              "    </tr>\n",
              "    <tr>\n",
              "      <th>1</th>\n",
              "      <td>276726</td>\n",
              "      <td>0155061224</td>\n",
              "      <td>5</td>\n",
              "    </tr>\n",
              "    <tr>\n",
              "      <th>2</th>\n",
              "      <td>276727</td>\n",
              "      <td>0446520802</td>\n",
              "      <td>0</td>\n",
              "    </tr>\n",
              "    <tr>\n",
              "      <th>3</th>\n",
              "      <td>276729</td>\n",
              "      <td>052165615X</td>\n",
              "      <td>3</td>\n",
              "    </tr>\n",
              "    <tr>\n",
              "      <th>4</th>\n",
              "      <td>276729</td>\n",
              "      <td>0521795028</td>\n",
              "      <td>6</td>\n",
              "    </tr>\n",
              "  </tbody>\n",
              "</table>\n",
              "</div>\n",
              "    <div class=\"colab-df-buttons\">\n",
              "\n",
              "  <div class=\"colab-df-container\">\n",
              "    <button class=\"colab-df-convert\" onclick=\"convertToInteractive('df-bcaaa6ad-fafe-4c04-8f06-98f8c3757e12')\"\n",
              "            title=\"Convert this dataframe to an interactive table.\"\n",
              "            style=\"display:none;\">\n",
              "\n",
              "  <svg xmlns=\"http://www.w3.org/2000/svg\" height=\"24px\" viewBox=\"0 -960 960 960\">\n",
              "    <path d=\"M120-120v-720h720v720H120Zm60-500h600v-160H180v160Zm220 220h160v-160H400v160Zm0 220h160v-160H400v160ZM180-400h160v-160H180v160Zm440 0h160v-160H620v160ZM180-180h160v-160H180v160Zm440 0h160v-160H620v160Z\"/>\n",
              "  </svg>\n",
              "    </button>\n",
              "\n",
              "  <style>\n",
              "    .colab-df-container {\n",
              "      display:flex;\n",
              "      gap: 12px;\n",
              "    }\n",
              "\n",
              "    .colab-df-convert {\n",
              "      background-color: #E8F0FE;\n",
              "      border: none;\n",
              "      border-radius: 50%;\n",
              "      cursor: pointer;\n",
              "      display: none;\n",
              "      fill: #1967D2;\n",
              "      height: 32px;\n",
              "      padding: 0 0 0 0;\n",
              "      width: 32px;\n",
              "    }\n",
              "\n",
              "    .colab-df-convert:hover {\n",
              "      background-color: #E2EBFA;\n",
              "      box-shadow: 0px 1px 2px rgba(60, 64, 67, 0.3), 0px 1px 3px 1px rgba(60, 64, 67, 0.15);\n",
              "      fill: #174EA6;\n",
              "    }\n",
              "\n",
              "    .colab-df-buttons div {\n",
              "      margin-bottom: 4px;\n",
              "    }\n",
              "\n",
              "    [theme=dark] .colab-df-convert {\n",
              "      background-color: #3B4455;\n",
              "      fill: #D2E3FC;\n",
              "    }\n",
              "\n",
              "    [theme=dark] .colab-df-convert:hover {\n",
              "      background-color: #434B5C;\n",
              "      box-shadow: 0px 1px 3px 1px rgba(0, 0, 0, 0.15);\n",
              "      filter: drop-shadow(0px 1px 2px rgba(0, 0, 0, 0.3));\n",
              "      fill: #FFFFFF;\n",
              "    }\n",
              "  </style>\n",
              "\n",
              "    <script>\n",
              "      const buttonEl =\n",
              "        document.querySelector('#df-bcaaa6ad-fafe-4c04-8f06-98f8c3757e12 button.colab-df-convert');\n",
              "      buttonEl.style.display =\n",
              "        google.colab.kernel.accessAllowed ? 'block' : 'none';\n",
              "\n",
              "      async function convertToInteractive(key) {\n",
              "        const element = document.querySelector('#df-bcaaa6ad-fafe-4c04-8f06-98f8c3757e12');\n",
              "        const dataTable =\n",
              "          await google.colab.kernel.invokeFunction('convertToInteractive',\n",
              "                                                    [key], {});\n",
              "        if (!dataTable) return;\n",
              "\n",
              "        const docLinkHtml = 'Like what you see? Visit the ' +\n",
              "          '<a target=\"_blank\" href=https://colab.research.google.com/notebooks/data_table.ipynb>data table notebook</a>'\n",
              "          + ' to learn more about interactive tables.';\n",
              "        element.innerHTML = '';\n",
              "        dataTable['output_type'] = 'display_data';\n",
              "        await google.colab.output.renderOutput(dataTable, element);\n",
              "        const docLink = document.createElement('div');\n",
              "        docLink.innerHTML = docLinkHtml;\n",
              "        element.appendChild(docLink);\n",
              "      }\n",
              "    </script>\n",
              "  </div>\n",
              "\n",
              "\n",
              "<div id=\"df-d36ae033-f409-4f8a-943f-3474dead7428\">\n",
              "  <button class=\"colab-df-quickchart\" onclick=\"quickchart('df-d36ae033-f409-4f8a-943f-3474dead7428')\"\n",
              "            title=\"Suggest charts\"\n",
              "            style=\"display:none;\">\n",
              "\n",
              "<svg xmlns=\"http://www.w3.org/2000/svg\" height=\"24px\"viewBox=\"0 0 24 24\"\n",
              "     width=\"24px\">\n",
              "    <g>\n",
              "        <path d=\"M19 3H5c-1.1 0-2 .9-2 2v14c0 1.1.9 2 2 2h14c1.1 0 2-.9 2-2V5c0-1.1-.9-2-2-2zM9 17H7v-7h2v7zm4 0h-2V7h2v10zm4 0h-2v-4h2v4z\"/>\n",
              "    </g>\n",
              "</svg>\n",
              "  </button>\n",
              "\n",
              "<style>\n",
              "  .colab-df-quickchart {\n",
              "      --bg-color: #E8F0FE;\n",
              "      --fill-color: #1967D2;\n",
              "      --hover-bg-color: #E2EBFA;\n",
              "      --hover-fill-color: #174EA6;\n",
              "      --disabled-fill-color: #AAA;\n",
              "      --disabled-bg-color: #DDD;\n",
              "  }\n",
              "\n",
              "  [theme=dark] .colab-df-quickchart {\n",
              "      --bg-color: #3B4455;\n",
              "      --fill-color: #D2E3FC;\n",
              "      --hover-bg-color: #434B5C;\n",
              "      --hover-fill-color: #FFFFFF;\n",
              "      --disabled-bg-color: #3B4455;\n",
              "      --disabled-fill-color: #666;\n",
              "  }\n",
              "\n",
              "  .colab-df-quickchart {\n",
              "    background-color: var(--bg-color);\n",
              "    border: none;\n",
              "    border-radius: 50%;\n",
              "    cursor: pointer;\n",
              "    display: none;\n",
              "    fill: var(--fill-color);\n",
              "    height: 32px;\n",
              "    padding: 0;\n",
              "    width: 32px;\n",
              "  }\n",
              "\n",
              "  .colab-df-quickchart:hover {\n",
              "    background-color: var(--hover-bg-color);\n",
              "    box-shadow: 0 1px 2px rgba(60, 64, 67, 0.3), 0 1px 3px 1px rgba(60, 64, 67, 0.15);\n",
              "    fill: var(--button-hover-fill-color);\n",
              "  }\n",
              "\n",
              "  .colab-df-quickchart-complete:disabled,\n",
              "  .colab-df-quickchart-complete:disabled:hover {\n",
              "    background-color: var(--disabled-bg-color);\n",
              "    fill: var(--disabled-fill-color);\n",
              "    box-shadow: none;\n",
              "  }\n",
              "\n",
              "  .colab-df-spinner {\n",
              "    border: 2px solid var(--fill-color);\n",
              "    border-color: transparent;\n",
              "    border-bottom-color: var(--fill-color);\n",
              "    animation:\n",
              "      spin 1s steps(1) infinite;\n",
              "  }\n",
              "\n",
              "  @keyframes spin {\n",
              "    0% {\n",
              "      border-color: transparent;\n",
              "      border-bottom-color: var(--fill-color);\n",
              "      border-left-color: var(--fill-color);\n",
              "    }\n",
              "    20% {\n",
              "      border-color: transparent;\n",
              "      border-left-color: var(--fill-color);\n",
              "      border-top-color: var(--fill-color);\n",
              "    }\n",
              "    30% {\n",
              "      border-color: transparent;\n",
              "      border-left-color: var(--fill-color);\n",
              "      border-top-color: var(--fill-color);\n",
              "      border-right-color: var(--fill-color);\n",
              "    }\n",
              "    40% {\n",
              "      border-color: transparent;\n",
              "      border-right-color: var(--fill-color);\n",
              "      border-top-color: var(--fill-color);\n",
              "    }\n",
              "    60% {\n",
              "      border-color: transparent;\n",
              "      border-right-color: var(--fill-color);\n",
              "    }\n",
              "    80% {\n",
              "      border-color: transparent;\n",
              "      border-right-color: var(--fill-color);\n",
              "      border-bottom-color: var(--fill-color);\n",
              "    }\n",
              "    90% {\n",
              "      border-color: transparent;\n",
              "      border-bottom-color: var(--fill-color);\n",
              "    }\n",
              "  }\n",
              "</style>\n",
              "\n",
              "  <script>\n",
              "    async function quickchart(key) {\n",
              "      const quickchartButtonEl =\n",
              "        document.querySelector('#' + key + ' button');\n",
              "      quickchartButtonEl.disabled = true;  // To prevent multiple clicks.\n",
              "      quickchartButtonEl.classList.add('colab-df-spinner');\n",
              "      try {\n",
              "        const charts = await google.colab.kernel.invokeFunction(\n",
              "            'suggestCharts', [key], {});\n",
              "      } catch (error) {\n",
              "        console.error('Error during call to suggestCharts:', error);\n",
              "      }\n",
              "      quickchartButtonEl.classList.remove('colab-df-spinner');\n",
              "      quickchartButtonEl.classList.add('colab-df-quickchart-complete');\n",
              "    }\n",
              "    (() => {\n",
              "      let quickchartButtonEl =\n",
              "        document.querySelector('#df-d36ae033-f409-4f8a-943f-3474dead7428 button');\n",
              "      quickchartButtonEl.style.display =\n",
              "        google.colab.kernel.accessAllowed ? 'block' : 'none';\n",
              "    })();\n",
              "  </script>\n",
              "</div>\n",
              "\n",
              "    </div>\n",
              "  </div>\n"
            ],
            "application/vnd.google.colaboratory.intrinsic+json": {
              "type": "dataframe",
              "summary": "{\n  \"name\": \"display(r\",\n  \"rows\": 5,\n  \"fields\": [\n    {\n      \"column\": \"User-ID\",\n      \"properties\": {\n        \"dtype\": \"number\",\n        \"std\": 1,\n        \"min\": 276725,\n        \"max\": 276729,\n        \"num_unique_values\": 4,\n        \"samples\": [\n          276726,\n          276729,\n          276725\n        ],\n        \"semantic_type\": \"\",\n        \"description\": \"\"\n      }\n    },\n    {\n      \"column\": \"ISBN\",\n      \"properties\": {\n        \"dtype\": \"string\",\n        \"num_unique_values\": 5,\n        \"samples\": [\n          \"0155061224\",\n          \"0521795028\",\n          \"0446520802\"\n        ],\n        \"semantic_type\": \"\",\n        \"description\": \"\"\n      }\n    },\n    {\n      \"column\": \"Book-Rating\",\n      \"properties\": {\n        \"dtype\": \"number\",\n        \"std\": 2,\n        \"min\": 0,\n        \"max\": 6,\n        \"num_unique_values\": 4,\n        \"samples\": [\n          5,\n          6,\n          0\n        ],\n        \"semantic_type\": \"\",\n        \"description\": \"\"\n      }\n    }\n  ]\n}"
            }
          },
          "metadata": {}
        }
      ],
      "source": [
        "# Dataset First Look\n",
        "print(\"Books Dataset\")\n",
        "display(b.head())\n",
        "print(\"Users Dataset\")\n",
        "display(u.head())\n",
        "print(\"Ratings Dataset\")\n",
        "display(r.head())\n"
      ]
    },
    {
      "cell_type": "markdown",
      "metadata": {
        "id": "7hBIi_osiCS2"
      },
      "source": [
        "### Dataset Rows & Columns count"
      ]
    },
    {
      "cell_type": "code",
      "execution_count": 4,
      "metadata": {
        "colab": {
          "base_uri": "https://localhost:8080/"
        },
        "id": "Kllu7SJgmLij",
        "outputId": "5495b5bb-6a73-4a96-c4f9-05911cb520bc"
      },
      "outputs": [
        {
          "output_type": "stream",
          "name": "stdout",
          "text": [
            "Books Dataset\n",
            "(271360, 8)\n",
            "Users Dataset\n",
            "(278858, 3)\n",
            "Ratings Dataset\n",
            "(1149780, 3)\n"
          ]
        }
      ],
      "source": [
        "# Dataset Rows & Columns count\n",
        "print(\"Books Dataset\")\n",
        "print(b.shape)\n",
        "print(\"Users Dataset\")\n",
        "print(u.shape)\n",
        "print(\"Ratings Dataset\")\n",
        "print(r.shape)"
      ]
    },
    {
      "cell_type": "markdown",
      "metadata": {
        "id": "JlHwYmJAmNHm"
      },
      "source": [
        "### Dataset Information"
      ]
    },
    {
      "cell_type": "code",
      "execution_count": 5,
      "metadata": {
        "colab": {
          "base_uri": "https://localhost:8080/"
        },
        "id": "e9hRXRi6meOf",
        "outputId": "6233ae37-c1e5-4e1f-9661-29ffcc5e7e14"
      },
      "outputs": [
        {
          "output_type": "stream",
          "name": "stdout",
          "text": [
            "Books Dataset:\n",
            "<class 'pandas.core.frame.DataFrame'>\n",
            "RangeIndex: 271360 entries, 0 to 271359\n",
            "Data columns (total 8 columns):\n",
            " #   Column               Non-Null Count   Dtype \n",
            "---  ------               --------------   ----- \n",
            " 0   ISBN                 271360 non-null  object\n",
            " 1   Book-Title           271360 non-null  object\n",
            " 2   Book-Author          271358 non-null  object\n",
            " 3   Year-Of-Publication  271360 non-null  object\n",
            " 4   Publisher            271358 non-null  object\n",
            " 5   Image-URL-S          271360 non-null  object\n",
            " 6   Image-URL-M          271360 non-null  object\n",
            " 7   Image-URL-L          271357 non-null  object\n",
            "dtypes: object(8)\n",
            "memory usage: 16.6+ MB\n",
            "None\n",
            "--------------------------------------------------------\n",
            "Users Dataset:\n",
            "<class 'pandas.core.frame.DataFrame'>\n",
            "RangeIndex: 278858 entries, 0 to 278857\n",
            "Data columns (total 3 columns):\n",
            " #   Column    Non-Null Count   Dtype  \n",
            "---  ------    --------------   -----  \n",
            " 0   User-ID   278858 non-null  int64  \n",
            " 1   Location  278858 non-null  object \n",
            " 2   Age       168096 non-null  float64\n",
            "dtypes: float64(1), int64(1), object(1)\n",
            "memory usage: 6.4+ MB\n",
            "None\n",
            "--------------------------------------------------------\n",
            "Ratings Dataset:\n",
            "<class 'pandas.core.frame.DataFrame'>\n",
            "RangeIndex: 1149780 entries, 0 to 1149779\n",
            "Data columns (total 3 columns):\n",
            " #   Column       Non-Null Count    Dtype \n",
            "---  ------       --------------    ----- \n",
            " 0   User-ID      1149780 non-null  int64 \n",
            " 1   ISBN         1149780 non-null  object\n",
            " 2   Book-Rating  1149780 non-null  int64 \n",
            "dtypes: int64(2), object(1)\n",
            "memory usage: 26.3+ MB\n",
            "None\n"
          ]
        }
      ],
      "source": [
        "# Dataset Info\n",
        "print(\"Books Dataset:\")\n",
        "print(b.info())\n",
        "print('--------------------------------------------------------')\n",
        "print(\"Users Dataset:\")\n",
        "print(u.info())\n",
        "print('--------------------------------------------------------')\n",
        "print(\"Ratings Dataset:\")\n",
        "print(r.info())"
      ]
    },
    {
      "cell_type": "markdown",
      "metadata": {
        "id": "35m5QtbWiB9F"
      },
      "source": [
        "#### Duplicate Values"
      ]
    },
    {
      "cell_type": "code",
      "execution_count": 6,
      "metadata": {
        "colab": {
          "base_uri": "https://localhost:8080/"
        },
        "id": "1sLdpKYkmox0",
        "outputId": "e0440707-64d0-4342-fd11-4af63125519d"
      },
      "outputs": [
        {
          "output_type": "stream",
          "name": "stdout",
          "text": [
            "Books Dataset:\n",
            "0\n",
            "------------------\n",
            "Users Dataset:\n",
            "0\n",
            "-------------------\n",
            "Ratings Dataset:\n",
            "0\n"
          ]
        }
      ],
      "source": [
        "# Dataset Duplicate Value Count\n",
        "print(\"Books Dataset:\")\n",
        "print(b.duplicated().sum())\n",
        "print('------------------')\n",
        "print(\"Users Dataset:\")\n",
        "print(u.duplicated().sum())\n",
        "print('-------------------')\n",
        "print(\"Ratings Dataset:\")\n",
        "print(r.duplicated().sum())"
      ]
    },
    {
      "cell_type": "markdown",
      "metadata": {
        "id": "PoPl-ycgm1ru"
      },
      "source": [
        "#### Missing Values/Null Values"
      ]
    },
    {
      "cell_type": "code",
      "execution_count": 7,
      "metadata": {
        "colab": {
          "base_uri": "https://localhost:8080/"
        },
        "id": "GgHWkxvamxVg",
        "outputId": "53d42411-704d-4c38-c6e6-4110c2bf9cc9"
      },
      "outputs": [
        {
          "output_type": "stream",
          "name": "stdout",
          "text": [
            "Books Dataset:\n",
            "ISBN                   0\n",
            "Book-Title             0\n",
            "Book-Author            2\n",
            "Year-Of-Publication    0\n",
            "Publisher              2\n",
            "Image-URL-S            0\n",
            "Image-URL-M            0\n",
            "Image-URL-L            3\n",
            "dtype: int64\n",
            "------------------\n",
            "Users Dataset:\n",
            "User-ID          0\n",
            "Location         0\n",
            "Age         110762\n",
            "dtype: int64\n",
            "-------------------\n",
            "Ratings Dataset:\n",
            "User-ID        0\n",
            "ISBN           0\n",
            "Book-Rating    0\n",
            "dtype: int64\n"
          ]
        }
      ],
      "source": [
        "# Missing Values/Null Values Count\n",
        "print(\"Books Dataset:\")\n",
        "print(b.isnull().sum())\n",
        "print('------------------')\n",
        "print(\"Users Dataset:\")\n",
        "print(u.isnull().sum())\n",
        "print('-------------------')\n",
        "print(\"Ratings Dataset:\")\n",
        "print(r.isnull().sum())"
      ]
    },
    {
      "cell_type": "markdown",
      "metadata": {
        "id": "H0kj-8xxnORC"
      },
      "source": [
        "### What did you know about your dataset?"
      ]
    },
    {
      "cell_type": "markdown",
      "metadata": {
        "id": "gfoNAAC-nUe_"
      },
      "source": [
        "The Book-Crossing dataset comprises 3 files.\n",
        "\n",
        "Users:\n",
        "\n",
        "Contains the users. Note that user IDs (User-ID) have been anonymized and map to integers. Demographic data is provided (Location, Age) if available. Otherwise, these fields contain NULL values.\n",
        "\n",
        "Books:\n",
        "\n",
        "Books are identified by their respective ISBN. Invalid ISBNs have already been removed from the dataset. Moreover, some content-based information is given (Book-Title, Book-Author, Year-Of-Publication, Publisher), obtained from Amazon Web Services. Note that in the case of several authors, only the first is provided. URLs linking to cover images are also given, appearing in three different flavours (Image-URL-S, Image-URL-M, Image-URL-L), i.e., small, medium, large. These URLs point to the Amazon website.\n",
        "\n",
        "Ratings:\n",
        "\n",
        "Contains the book rating information. Ratings (Book-Rating) are either explicit, expressed on a scale from 1-10 (higher values denoting higher appreciation), or implicit, expressed by 0.\n",
        "\n"
      ]
    },
    {
      "cell_type": "markdown",
      "metadata": {
        "id": "nA9Y7ga8ng1Z"
      },
      "source": [
        "## ***2. Understanding Your Variables***"
      ]
    },
    {
      "cell_type": "code",
      "execution_count": 8,
      "metadata": {
        "colab": {
          "base_uri": "https://localhost:8080/"
        },
        "id": "j7xfkqrt5Ag5",
        "outputId": "478eef99-2a95-43ef-965a-0bc395fd5301"
      },
      "outputs": [
        {
          "output_type": "stream",
          "name": "stdout",
          "text": [
            "Books Dataset Columns:\n",
            "Index(['ISBN', 'Book-Title', 'Book-Author', 'Year-Of-Publication', 'Publisher',\n",
            "       'Image-URL-S', 'Image-URL-M', 'Image-URL-L'],\n",
            "      dtype='object')\n",
            "------------------\n",
            "Users Dataset Columns:\n",
            "Index(['User-ID', 'Location', 'Age'], dtype='object')\n",
            "-------------------\n",
            "Ratings Dataset Columns:\n",
            "Index(['User-ID', 'ISBN', 'Book-Rating'], dtype='object')\n"
          ]
        }
      ],
      "source": [
        "# Dataset Columns\n",
        "print(\"Books Dataset Columns:\")\n",
        "print(b.columns)\n",
        "print('------------------')\n",
        "print(\"Users Dataset Columns:\")\n",
        "print(u.columns)\n",
        "print('-------------------')\n",
        "print(\"Ratings Dataset Columns:\")\n",
        "print(r.columns)"
      ]
    },
    {
      "cell_type": "code",
      "execution_count": 9,
      "metadata": {
        "colab": {
          "base_uri": "https://localhost:8080/"
        },
        "id": "DnOaZdaE5Q5t",
        "outputId": "fcbc7592-b299-4857-9375-cddad3a61f43"
      },
      "outputs": [
        {
          "output_type": "stream",
          "name": "stdout",
          "text": [
            "Books Dataset:\n",
            "              ISBN      Book-Title      Book-Author  Year-Of-Publication  \\\n",
            "count       271360          271360           271358               271360   \n",
            "unique      271360          242135           102022                  202   \n",
            "top     0195153448  Selected Poems  Agatha Christie                 2002   \n",
            "freq             1              27              632                13903   \n",
            "\n",
            "        Publisher                                        Image-URL-S  \\\n",
            "count      271358                                             271360   \n",
            "unique      16807                                             271044   \n",
            "top     Harlequin  http://images.amazon.com/images/P/185326119X.0...   \n",
            "freq         7535                                                  2   \n",
            "\n",
            "                                              Image-URL-M  \\\n",
            "count                                              271360   \n",
            "unique                                             271044   \n",
            "top     http://images.amazon.com/images/P/185326119X.0...   \n",
            "freq                                                    2   \n",
            "\n",
            "                                              Image-URL-L  \n",
            "count                                              271357  \n",
            "unique                                             271041  \n",
            "top     http://images.amazon.com/images/P/225307649X.0...  \n",
            "freq                                                    2  \n",
            "----------------------------\n",
            "Users Dataset:\n",
            "            User-ID            Age\n",
            "count  278858.00000  168096.000000\n",
            "mean   139429.50000      34.751434\n",
            "std     80499.51502      14.428097\n",
            "min         1.00000       0.000000\n",
            "25%     69715.25000      24.000000\n",
            "50%    139429.50000      32.000000\n",
            "75%    209143.75000      44.000000\n",
            "max    278858.00000     244.000000\n",
            "----------------------------\n",
            "Ratings Dataset:\n",
            "            User-ID   Book-Rating\n",
            "count  1.149780e+06  1.149780e+06\n",
            "mean   1.403864e+05  2.866950e+00\n",
            "std    8.056228e+04  3.854184e+00\n",
            "min    2.000000e+00  0.000000e+00\n",
            "25%    7.034500e+04  0.000000e+00\n",
            "50%    1.410100e+05  0.000000e+00\n",
            "75%    2.110280e+05  7.000000e+00\n",
            "max    2.788540e+05  1.000000e+01\n"
          ]
        }
      ],
      "source": [
        "# Dataset Describe\n",
        "print(\"Books Dataset:\")\n",
        "print(b.describe())\n",
        "print('----------------------------')\n",
        "print(\"Users Dataset:\")\n",
        "print(u.describe())\n",
        "print('----------------------------')\n",
        "print(\"Ratings Dataset:\")\n",
        "print(r.describe())"
      ]
    },
    {
      "cell_type": "markdown",
      "metadata": {
        "id": "PBTbrJXOngz2"
      },
      "source": [
        "### Variables Description"
      ]
    },
    {
      "cell_type": "markdown",
      "metadata": {
        "id": "aJV4KIxSnxay"
      },
      "source": [
        "### **Books Dataset:**\n",
        "\n",
        "**ISBN:** Unique identifier for each book (International Standard Book Number).\n",
        "\n",
        "**Book_Title:** The title of the book.\n",
        "\n",
        "**Book_Author:** The name of the author who wrote the book.\n",
        "\n",
        "**Year_Of_Publication**: The year the book was published.\n",
        "\n",
        "**Publisher:** The name of the company that published the book.\n",
        "\n",
        "**Image_URL_S:** URL for a small-sized image of the book cover.\n",
        "\n",
        "\n",
        "**Image_URL_M:** URL for a medium-sized image of the book cover.\n",
        "\n",
        "**Image_URL_L:** URL for a large-sized image of the book cover.\n",
        "\n",
        "### **Users Dataset:**\n",
        "\n",
        "**User_ID:** A unique identifier for each user.\n",
        "\n",
        "**Location:** The city, state, and country where the user resides.\n",
        "\n",
        "**Age:** The age of the user, if available.\n",
        "\n",
        "### **Ratings Dataset**:\n",
        "\n",
        "**User_ID**: A unique identifier for each user, used to match with the Users dataset.\n",
        "\n",
        "**ISBN**: The unique identifier for the book, used to match with the Books dataset.\n",
        "\n",
        "**Book_Rating**: A numerical rating (usually between 0 and 10) given by the user to the book."
      ]
    },
    {
      "cell_type": "markdown",
      "metadata": {
        "id": "u3PMJOP6ngxN"
      },
      "source": [
        "### Check Unique Values for each variable."
      ]
    },
    {
      "cell_type": "code",
      "execution_count": 10,
      "metadata": {
        "colab": {
          "base_uri": "https://localhost:8080/"
        },
        "id": "zms12Yq5n-jE",
        "outputId": "7e18d940-9dd0-467a-d3a9-d2e13916666e"
      },
      "outputs": [
        {
          "output_type": "stream",
          "name": "stdout",
          "text": [
            "Books Dataset:\n",
            "ISBN                   271360\n",
            "Book-Title             242135\n",
            "Book-Author            102022\n",
            "Year-Of-Publication       202\n",
            "Publisher               16807\n",
            "Image-URL-S            271044\n",
            "Image-URL-M            271044\n",
            "Image-URL-L            271041\n",
            "dtype: int64\n",
            "----------------------------\n",
            "Users Dataset:\n",
            "User-ID     278858\n",
            "Location     57339\n",
            "Age            165\n",
            "dtype: int64\n",
            "----------------------------\n",
            "Ratings Dataset:\n",
            "User-ID        105283\n",
            "ISBN           340556\n",
            "Book-Rating        11\n",
            "dtype: int64\n"
          ]
        }
      ],
      "source": [
        "# Check Unique Values for each variable.\n",
        "print(\"Books Dataset:\")\n",
        "print(b.nunique())\n",
        "print('----------------------------')\n",
        "print(\"Users Dataset:\")\n",
        "print(u.nunique())\n",
        "print('----------------------------')\n",
        "print(\"Ratings Dataset:\")\n",
        "print(r.nunique())"
      ]
    },
    {
      "cell_type": "markdown",
      "metadata": {
        "id": "dauF4eBmngu3"
      },
      "source": [
        "## 3. ***Data Wrangling***"
      ]
    },
    {
      "cell_type": "markdown",
      "metadata": {
        "id": "bKJF3rekwFvQ"
      },
      "source": [
        "### Data Wrangling Code"
      ]
    },
    {
      "cell_type": "code",
      "execution_count": 11,
      "metadata": {
        "id": "wk-9a2fpoLcV"
      },
      "outputs": [],
      "source": [
        "# Write your code to make your dataset analysis ready.\n",
        "user= u.drop('Age', axis=1)"
      ]
    },
    {
      "cell_type": "code",
      "execution_count": 12,
      "metadata": {
        "colab": {
          "base_uri": "https://localhost:8080/"
        },
        "id": "E5NqSoszZCuB",
        "outputId": "78b57bea-f60b-4645-8650-3e7a3ed109f7"
      },
      "outputs": [
        {
          "output_type": "stream",
          "name": "stdout",
          "text": [
            "Users:\n",
            "User-ID     0\n",
            "Location    0\n",
            "dtype: int64\n",
            "------------------\n",
            "Ratings\n",
            "User-ID        0\n",
            "ISBN           0\n",
            "Book-Rating    0\n",
            "dtype: int64\n",
            "-------------------\n",
            "Books\n",
            "ISBN                   0\n",
            "Book-Title             0\n",
            "Book-Author            2\n",
            "Year-Of-Publication    0\n",
            "Publisher              2\n",
            "Image-URL-S            0\n",
            "Image-URL-M            0\n",
            "Image-URL-L            3\n",
            "dtype: int64\n"
          ]
        }
      ],
      "source": [
        "print('Users:')\n",
        "print(user.isnull().sum())\n",
        "print('------------------')\n",
        "print('Ratings')\n",
        "print(r.isnull().sum())\n",
        "print('-------------------')\n",
        "print('Books')\n",
        "print(b.isnull().sum())"
      ]
    },
    {
      "cell_type": "code",
      "execution_count": 13,
      "metadata": {
        "id": "9inscuNIH3GC"
      },
      "outputs": [],
      "source": [
        "# Drop Null Values\n",
        "user= user.dropna()\n",
        "r= r.dropna()\n",
        "b= b.dropna()"
      ]
    },
    {
      "cell_type": "markdown",
      "metadata": {
        "id": "MSa1f5Uengrz"
      },
      "source": [
        "### What all manipulations have you done and insights you found?"
      ]
    },
    {
      "cell_type": "markdown",
      "metadata": {
        "id": "LbyXE7I1olp8"
      },
      "source": [
        "**Removing Null Values:**\n",
        "\n",
        "Action: All rows with null values have been removed from the dataset.\n",
        "\n",
        "Impact: This ensures that only complete data is kept for analysis, reducing the potential for errors or incomplete insights.\n",
        "\n",
        "**Removing the Age Column from the Users Dataset:**\n",
        "\n",
        "Action: The Age column was removed from the Users dataset.\n",
        "\n",
        "**Insights Derived:**\n",
        "\n",
        "Completeness of Data:\n",
        "\n",
        "After removing null values, the dataset is now clean and free from missing information, which improves the accuracy and reliability of further analysis.\n",
        "\n",
        "User Demographics:\n",
        "\n",
        "Removing the Age column means demographic factors like age will not be considered in the analysis of user behavior, limiting insights on how different age groups interact with books."
      ]
    },
    {
      "cell_type": "markdown",
      "metadata": {
        "id": "GF8Ens_Soomf"
      },
      "source": [
        "## ***4. Data Vizualization, Storytelling & Experimenting with charts : Understand the relationships between variables***"
      ]
    },
    {
      "cell_type": "markdown",
      "metadata": {
        "id": "0wOQAZs5pc--"
      },
      "source": [
        "#### Chart - 1"
      ]
    },
    {
      "cell_type": "code",
      "execution_count": 14,
      "metadata": {
        "colab": {
          "base_uri": "https://localhost:8080/",
          "height": 781
        },
        "id": "7v_ESjsspbW7",
        "outputId": "02fb424d-e7c6-40fe-8b9f-5d0f39cebd13"
      },
      "outputs": [
        {
          "output_type": "display_data",
          "data": {
            "text/plain": [
              "<Figure size 640x480 with 1 Axes>"
            ],
            "image/png": "[encoded data removed]"
          },
          "metadata": {}
        }
      ],
      "source": [
        "# Chart - 1 Top Books\n",
        "rb=pd.merge(r,b, how='inner', on='ISBN')\n",
        "rb.head()\n",
        "book_cout=rb['Book-Title'].value_counts().head(10)\n",
        "book_cout.plot(kind='bar')\n",
        "plt.xlabel('Book-Title')\n",
        "plt.ylabel('Count')\n",
        "plt.title('Readers Choice')\n",
        "plt.show()\n"
      ]
    },
    {
      "cell_type": "markdown",
      "metadata": {
        "id": "K5QZ13OEpz2H"
      },
      "source": [
        "##### 1. Why did you pick the specific chart?"
      ]
    },
    {
      "cell_type": "markdown",
      "metadata": {
        "id": "XESiWehPqBRc"
      },
      "source": [
        "The bar chart is an appropriate choice for this data because it visually represents the frequency of each book title. The horizontal axis lists the book titles, and the vertical axis represents the count of readers who chose each book. This format makes it easy to compare the popularity of different books at a glance."
      ]
    },
    {
      "cell_type": "markdown",
      "metadata": {
        "id": "lQ7QKXXCp7Bj"
      },
      "source": [
        "######2. What is/are the insight(s) found from the chart?"
      ]
    },
    {
      "cell_type": "markdown",
      "metadata": {
        "id": "C_j1G7yiqdRP"
      },
      "source": [
        "The chart provides a clear visual representation of the popularity of each book title.\n",
        "\n",
        "It highlights the significant popularity of \"Wild and Anxious\" and suggests a relatively even distribution of reader preferences for the other titles."
      ]
    },
    {
      "cell_type": "markdown",
      "metadata": {
        "id": "448CDAPjqfQr"
      },
      "source": [
        "##### 3. Will the gained insights help creating a positive business impact?\n",
        "Are there any insights that lead to negative growth? Justify with specific reason."
      ]
    },
    {
      "cell_type": "markdown",
      "metadata": {
        "id": "3cspy4FjqxJW"
      },
      "source": [
        "**Insights**\n",
        "\n",
        "Targeted Marketing: The chart can help identify which books are most popular among readers. This information can be used to target marketing efforts towards these titles, increasing the likelihood of sales and promoting them to a wider audience.\n",
        "\n",
        "Content Recommendations: The chart can be used to recommend similar books to readers. By suggesting titles that are popular and align with a reader's preferences, retailers can increase customer satisfaction and encourage repeat purchases.\n",
        "\n",
        "Negative implications\n",
        "Overreliance on Popularity: If a retailer becomes overly reliant on the most popular titles, they may miss out on opportunities to discover and promote new or less popular books that could have a significant impact on their business.\n",
        "\n"
      ]
    },
    {
      "cell_type": "markdown",
      "metadata": {
        "id": "KSlN3yHqYklG"
      },
      "source": [
        "#### Chart - 2"
      ]
    },
    {
      "cell_type": "code",
      "execution_count": 15,
      "metadata": {
        "colab": {
          "base_uri": "https://localhost:8080/",
          "height": 511
        },
        "id": "R4YgtaqtYklH",
        "outputId": "31fd261b-a0b3-4e52-e94c-87c6b93283a0"
      },
      "outputs": [
        {
          "output_type": "display_data",
          "data": {
            "text/plain": [
              "<Figure size 640x480 with 1 Axes>"
            ],
            "image/png": "[encoded data removed]"
          },
          "metadata": {}
        }
      ],
      "source": [
        "# Chart - 2 Top Users\n",
        "user_cout=rb['User-ID'].value_counts().head(10)\n",
        "user_cout.plot(kind='bar')\n",
        "plt.xlabel('User-ID')\n",
        "plt.ylabel('Count')\n",
        "plt.title('Rating Enthusiasts')\n",
        "plt.show()"
      ]
    },
    {
      "cell_type": "markdown",
      "metadata": {
        "id": "t6dVpIINYklI"
      },
      "source": [
        "##### 1. Why did you pick the specific chart?"
      ]
    },
    {
      "cell_type": "markdown",
      "metadata": {
        "id": "5aaW0BYyYklI"
      },
      "source": [
        "A bar chart was the most suitable choice for this data because it effectively compares the frequencies of different User IDs. The horizontal axis lists the User IDs, and the vertical axis represents the count of ratings each user has provided. This format allows for easy visual comparison of the rating activity among different users."
      ]
    },
    {
      "cell_type": "markdown",
      "metadata": {
        "id": "ijmpgYnKYklI"
      },
      "source": [
        "##### 2. What is/are the insight(s) found from the chart?"
      ]
    },
    {
      "cell_type": "markdown",
      "metadata": {
        "id": "PSx9atu2YklI"
      },
      "source": [
        "User Activity: There's a significant variation in the number of ratings provided by different users.\n",
        "\n",
        "Top Raters: User ID 11676 stands out as the most active user, providing significantly more ratings than others.\n",
        "\n",
        "Clustering: The chart also reveals clusters of users with similar levels of rating activity. For instance, there's a group of users with ratings between 100,000 and 200,000"
      ]
    },
    {
      "cell_type": "markdown",
      "metadata": {
        "id": "-JiQyfWJYklI"
      },
      "source": [
        "##### 3. Will the gained insights help creating a positive business impact?\n",
        "Are there any insights that lead to negative growth? Justify with specific reason."
      ]
    },
    {
      "cell_type": "markdown",
      "metadata": {
        "id": "BcBbebzrYklV"
      },
      "source": [
        "Targeted User Engagement: By identifying highly active users, a business can tailor marketing strategies or offer exclusive benefits to foster loyalty and encourage further engagement.\n",
        "\n",
        "Community Building: Recognizing and promoting top raters can create a sense of community and encourage other users to participate more actively.\n",
        "\n",
        "Data-Driven Recommendations: Analyzing user rating patterns can help refine recommendation systems, providing more personalized and relevant suggestions.\n",
        "\n",
        "However, there's a potential negative aspect:\n",
        "\n",
        "Over-reliance on Top Raters: If a business becomes overly dependent on a small group of highly active users, it may miss out on valuable feedback from a wider range of customers. This could lead to skewed product or service assessments and hinder innovation."
      ]
    },
    {
      "cell_type": "markdown",
      "metadata": {
        "id": "EM7whBJCYoAo"
      },
      "source": [
        "#### Chart - 3"
      ]
    },
    {
      "cell_type": "code",
      "execution_count": 16,
      "metadata": {
        "colab": {
          "base_uri": "https://localhost:8080/",
          "height": 490
        },
        "id": "t6GMdE67YoAp",
        "outputId": "6dabf563-0fd1-4dbe-b621-c19de35aec6c"
      },
      "outputs": [
        {
          "output_type": "display_data",
          "data": {
            "text/plain": [
              "<Figure size 500x100 with 0 Axes>"
            ]
          },
          "metadata": {}
        },
        {
          "output_type": "display_data",
          "data": {
            "text/plain": [
              "<Figure size 640x480 with 1 Axes>"
            ],
            "image/png": "[encoded data removed]"
          },
          "metadata": {}
        }
      ],
      "source": [
        "# Chart - 3 Year Wise Book sale\n",
        "rb=rb[rb['Year-Of-Publication']!=0]\n",
        "year_sale=rb.groupby('Year-Of-Publication')['User-ID'].count().sort_values().reset_index()\n",
        "ys=year_sale[year_sale['User-ID']>20000]\n",
        "plt.figure(figsize=(5,1))\n",
        "ys.plot(x='Year-Of-Publication',y='User-ID',kind='line')\n",
        "plt.xlabel('Year-Of-Publication')\n",
        "plt.ylabel('Users')\n",
        "plt.title('Year Wise Book sale')\n",
        "plt.show()\n"
      ]
    },
    {
      "cell_type": "markdown",
      "metadata": {
        "id": "fge-S5ZAYoAp"
      },
      "source": [
        "##### 1. Why did you pick the specific chart?"
      ]
    },
    {
      "cell_type": "markdown",
      "metadata": {
        "id": "5dBItgRVYoAp"
      },
      "source": [
        "A line chart was the most appropriate choice for this data because it effectively visualizes the trend of book sales over time. The horizontal axis represents the Year-of-Publication, and the vertical axis displays the number of Users. This format allows for easy observation of the growth or decline in book sales across different years."
      ]
    },
    {
      "cell_type": "markdown",
      "metadata": {
        "id": "85gYPyotYoAp"
      },
      "source": [
        "##### 2. What is/are the insight(s) found from the chart?"
      ]
    },
    {
      "cell_type": "markdown",
      "metadata": {
        "id": "4jstXR6OYoAp"
      },
      "source": [
        "There's a clear upward trend in book sales over the years.\n",
        "\n"
      ]
    },
    {
      "cell_type": "markdown",
      "metadata": {
        "id": "RoGjAbkUYoAp"
      },
      "source": [
        "##### 3. Will the gained insights help creating a positive business impact?\n",
        "Are there any insights that lead to negative growth? Justify with specific reason."
      ]
    },
    {
      "cell_type": "markdown",
      "metadata": {
        "id": "zfJ8IqMcYoAp"
      },
      "source": [
        "Product Strategy: By understanding the historical sales trends, businesses can make informed decisions about which genres or authors to focus on.\n",
        "Marketing Campaigns: The chart can help identify optimal times for marketing campaigns and promotions based on peak sales periods.\n",
        "Inventory Management: Predicting future sales trends can aid in inventory planning, ensuring sufficient stock levels to meet demand.\n",
        "\n",
        "However, there's a potential negative aspect:\n",
        "\n",
        "Overreliance on Past Trends: If a business becomes overly reliant on past trends without considering other factors (e.g., changing consumer preferences, economic conditions), it may miss out on opportunities or face challenges."
      ]
    },
    {
      "cell_type": "markdown",
      "metadata": {
        "id": "4Of9eVA-YrdM"
      },
      "source": [
        "#### Chart - 4"
      ]
    },
    {
      "cell_type": "code",
      "execution_count": 17,
      "metadata": {
        "colab": {
          "base_uri": "https://localhost:8080/",
          "height": 428
        },
        "id": "irlUoxc8YrdO",
        "outputId": "e29282e3-f72e-4cfc-9418-475ce52766e8"
      },
      "outputs": [
        {
          "output_type": "display_data",
          "data": {
            "text/plain": [
              "<Figure size 640x480 with 1 Axes>"
            ],
            "image/png": "[encoded data removed]"
          },
          "metadata": {}
        }
      ],
      "source": [
        "# Chart - 4 Top 10 country\n",
        "# Extract country from the Location column\n",
        "user['Country'] =user['Location'].apply(lambda x: x.split(',')[-1].strip())\n",
        "users=user['Country'].value_counts().head(10)\n",
        "plt.pie(users, labels=users.index, autopct='%1.1f%%')\n",
        "plt.title('Top 10 Countries')\n",
        "plt.show()\n"
      ]
    },
    {
      "cell_type": "markdown",
      "metadata": {
        "id": "iky9q4vBYrdO"
      },
      "source": [
        "##### 1. Why did you pick the specific chart?"
      ]
    },
    {
      "cell_type": "markdown",
      "metadata": {
        "id": "aJRCwT6DYrdO"
      },
      "source": [
        "A pie chart was the most suitable choice for this data because it effectively represents the relative proportions of each country in the overall total. The size of each slice indicates the percentage of the total represented by that country, making it easy to compare contributions visually."
      ]
    },
    {
      "cell_type": "markdown",
      "metadata": {
        "id": "F6T5p64dYrdO"
      },
      "source": [
        "##### 2. What is/are the insight(s) found from the chart?"
      ]
    },
    {
      "cell_type": "markdown",
      "metadata": {
        "id": "Xx8WAJvtYrdO"
      },
      "source": [
        "Dominance of the USA: The USA occupies the largest slice of the pie, representing a significantly higher percentage (57.1%) compared to all other countries.\n",
        "\n",
        "Regional Distribution: The chart reveals a concentration of countries from North America, Europe, and Oceania, with a limited representation from other regions.\n",
        "\n",
        "Smaller Contributions: Several countries, including Portugal, France, and Italy, have relatively small percentages, indicating their lesser contributions to the overall total."
      ]
    },
    {
      "cell_type": "markdown",
      "metadata": {
        "id": "y-Ehk30pYrdP"
      },
      "source": [
        "##### 3. Will the gained insights help creating a positive business impact?\n",
        "Are there any insights that lead to negative growth? Justify with specific reason."
      ]
    },
    {
      "cell_type": "markdown",
      "metadata": {
        "id": "jLNxxz7MYrdP"
      },
      "source": [
        "Market Targeting: The chart can help businesses identify key markets with the highest potential for growth and customer acquisition.\n",
        "\n",
        "Product Localization: Understanding the distribution of countries can guide businesses in tailoring their products or services to specific regional preferences.\n",
        "\n",
        "Global Expansion: The chart can inform decisions about expanding into new markets based on the relative size and potential of each country.\n",
        "\n",
        "However, there's a potential negative aspect:\n",
        "\n",
        "Overreliance on the Dominant Market: If a business becomes overly dependent on the USA, it may be vulnerable to economic fluctuations or changes in consumer preferences within that country."
      ]
    },
    {
      "cell_type": "markdown",
      "metadata": {
        "id": "P3WF1GQ7eO7Q"
      },
      "source": [
        "#### Chart - 5"
      ]
    },
    {
      "cell_type": "code",
      "execution_count": 18,
      "metadata": {
        "colab": {
          "base_uri": "https://localhost:8080/",
          "height": 472
        },
        "id": "FfrLHDY9eVTK",
        "outputId": "952aaadf-0018-4ed5-c48a-36c0344fb2c8"
      },
      "outputs": [
        {
          "output_type": "display_data",
          "data": {
            "text/plain": [
              "<Figure size 640x480 with 1 Axes>"
            ],
            "image/png": "[encoded data removed]"
          },
          "metadata": {}
        }
      ],
      "source": [
        "# Rating Range\n",
        "rb['Book-Rating'].plot(kind='hist')\n",
        "plt.xlabel('Book-Rating')\n",
        "plt.ylabel('Count')\n",
        "plt.title('Rating Range')\n",
        "plt.show()"
      ]
    },
    {
      "cell_type": "markdown",
      "metadata": {
        "id": "teKxGTnoex9o"
      },
      "source": [
        "##### 1. Why did you pick the specific chart?"
      ]
    },
    {
      "cell_type": "markdown",
      "metadata": {
        "id": "LydSrdNkezPz"
      },
      "source": [
        "Distribution Visualization: It effectively shows the distribution of book ratings across different intervals.\n",
        "\n",
        "Frequency Representation: The y-axis (\"Count\") represents the frequency of book ratings within each interval, providing a clear understanding of the data's concentration.\n",
        "\n",
        "Categorical Data: Book ratings are categorical data, making a histogram suitable for visualizing their distribution.\n"
      ]
    },
    {
      "cell_type": "markdown",
      "metadata": {
        "id": "WiHo5g9yez3e"
      },
      "source": [
        "##### 2. What is/are the insight(s) found from the chart?"
      ]
    },
    {
      "cell_type": "markdown",
      "metadata": {
        "id": "9reSZB1Se7-0"
      },
      "source": [
        "Unrated Books: A significant portion of the dataset may consist of books that haven't received any ratings.\n",
        "\n",
        "Rating Behavior: If a large number of books remain unrated, it could indicate a need to encourage more user engagement and reviews.\n",
        "\n"
      ]
    },
    {
      "cell_type": "markdown",
      "metadata": {
        "id": "DazP3fpRe8bC"
      },
      "source": [
        "##### 3. Will the gained insights help creating a positive business impact?\n",
        "Are there any insights that lead to negative growth? Justify with specific reason.\n",
        "\n"
      ]
    },
    {
      "cell_type": "markdown",
      "metadata": {
        "id": "dfZllULtfEXw"
      },
      "source": [
        "Review Campaigns: Implementing strategies to encourage users to leave reviews can improve the quality and quantity of rating data.\n",
        "\n",
        "Recommendation System: The recommendation system should be adjusted to account for unrated books, potentially suggesting popular or highly-rated books that haven't been reviewed by a specific user"
      ]
    },
    {
      "cell_type": "markdown",
      "metadata": {
        "id": "q29F0dvdveiT"
      },
      "source": [
        "#### Chart - 06 - Pair Plot"
      ]
    },
    {
      "cell_type": "code",
      "execution_count": 19,
      "metadata": {
        "id": "o58-TEIhveiU",
        "colab": {
          "base_uri": "https://localhost:8080/",
          "height": 531
        },
        "outputId": "77fb0034-1d06-4a7a-847c-ff29a6a4fea8"
      },
      "outputs": [
        {
          "output_type": "execute_result",
          "data": {
            "text/plain": [
              "<seaborn.axisgrid.PairGrid at 0x7ac5d4c73490>"
            ]
          },
          "metadata": {},
          "execution_count": 19
        },
        {
          "output_type": "display_data",
          "data": {
            "text/plain": [
              "<Figure size 500x500 with 6 Axes>"
            ],
            "image/png": "[encoded data removed]"
          },
          "metadata": {}
        }
      ],
      "source": [
        "# Pair Plot visualization code\n",
        "rbu=pd.merge(rb,user, how='inner', on='User-ID')\n",
        "rbu.head()\n",
        "user_review_count = rbu.groupby('Book-Title')['User-ID'].count().sort_values().reset_index()\n",
        "user_review_count.columns = ['Book-Title', 'Total']\n",
        "pair=pd.merge(rbu, user_review_count, how='inner', on='Book-Title')\n",
        "sns.pairplot(pair[['Book-Rating','Total']])"
      ]
    },
    {
      "cell_type": "markdown",
      "metadata": {
        "id": "EXh0U9oCveiU"
      },
      "source": [
        "##### 1. Why did you pick the specific chart?"
      ]
    },
    {
      "cell_type": "markdown",
      "metadata": {
        "id": "eMmPjTByveiU"
      },
      "source": [
        "To analyze the relationships"
      ]
    },
    {
      "cell_type": "markdown",
      "metadata": {
        "id": "22aHeOlLveiV"
      },
      "source": [
        "##### 2. What is/are the insight(s) found from the chart?"
      ]
    },
    {
      "cell_type": "markdown",
      "metadata": {
        "id": "uPQ8RGwHveiV"
      },
      "source": [
        "To create a pair plot in Python, you typically need numeric data, and since there are less number of nmumeric data it doesn't any proper insights."
      ]
    },
    {
      "cell_type": "markdown",
      "metadata": {
        "id": "yLjJCtPM0KBk"
      },
      "source": [
        "## ***5. Feature Engineering & Data Pre-processing***"
      ]
    },
    {
      "cell_type": "markdown",
      "metadata": {
        "id": "xiyOF9F70UgQ"
      },
      "source": [
        "### 1. Handling Missing Values"
      ]
    },
    {
      "cell_type": "code",
      "execution_count": 20,
      "metadata": {
        "id": "iRsAHk1K0fpS",
        "colab": {
          "base_uri": "https://localhost:8080/",
          "height": 460
        },
        "outputId": "2101233a-ad43-4b02-d9a4-78a814c8b8d2"
      },
      "outputs": [
        {
          "output_type": "execute_result",
          "data": {
            "text/plain": [
              "User-ID                0\n",
              "ISBN                   0\n",
              "Book-Rating            0\n",
              "Book-Title             0\n",
              "Book-Author            0\n",
              "Year-Of-Publication    0\n",
              "Publisher              0\n",
              "Image-URL-S            0\n",
              "Image-URL-M            0\n",
              "Image-URL-L            0\n",
              "Location               0\n",
              "Country                0\n",
              "dtype: int64"
            ],
            "text/html": [
              "<div>\n",
              "<style scoped>\n",
              "    .dataframe tbody tr th:only-of-type {\n",
              "        vertical-align: middle;\n",
              "    }\n",
              "\n",
              "    .dataframe tbody tr th {\n",
              "        vertical-align: top;\n",
              "    }\n",
              "\n",
              "    .dataframe thead th {\n",
              "        text-align: right;\n",
              "    }\n",
              "</style>\n",
              "<table border=\"1\" class=\"dataframe\">\n",
              "  <thead>\n",
              "    <tr style=\"text-align: right;\">\n",
              "      <th></th>\n",
              "      <th>0</th>\n",
              "    </tr>\n",
              "  </thead>\n",
              "  <tbody>\n",
              "    <tr>\n",
              "      <th>User-ID</th>\n",
              "      <td>0</td>\n",
              "    </tr>\n",
              "    <tr>\n",
              "      <th>ISBN</th>\n",
              "      <td>0</td>\n",
              "    </tr>\n",
              "    <tr>\n",
              "      <th>Book-Rating</th>\n",
              "      <td>0</td>\n",
              "    </tr>\n",
              "    <tr>\n",
              "      <th>Book-Title</th>\n",
              "      <td>0</td>\n",
              "    </tr>\n",
              "    <tr>\n",
              "      <th>Book-Author</th>\n",
              "      <td>0</td>\n",
              "    </tr>\n",
              "    <tr>\n",
              "      <th>Year-Of-Publication</th>\n",
              "      <td>0</td>\n",
              "    </tr>\n",
              "    <tr>\n",
              "      <th>Publisher</th>\n",
              "      <td>0</td>\n",
              "    </tr>\n",
              "    <tr>\n",
              "      <th>Image-URL-S</th>\n",
              "      <td>0</td>\n",
              "    </tr>\n",
              "    <tr>\n",
              "      <th>Image-URL-M</th>\n",
              "      <td>0</td>\n",
              "    </tr>\n",
              "    <tr>\n",
              "      <th>Image-URL-L</th>\n",
              "      <td>0</td>\n",
              "    </tr>\n",
              "    <tr>\n",
              "      <th>Location</th>\n",
              "      <td>0</td>\n",
              "    </tr>\n",
              "    <tr>\n",
              "      <th>Country</th>\n",
              "      <td>0</td>\n",
              "    </tr>\n",
              "  </tbody>\n",
              "</table>\n",
              "</div><br><label><b>dtype:</b> int64</label>"
            ]
          },
          "metadata": {},
          "execution_count": 20
        }
      ],
      "source": [
        "# Handling Missing Values & Missing Value Imputation\n",
        "rbu.isnull().sum()"
      ]
    },
    {
      "cell_type": "markdown",
      "metadata": {
        "id": "7wuGOrhz0itI"
      },
      "source": [
        "#### What all missing value imputation techniques have you used and why did you use those techniques?"
      ]
    },
    {
      "cell_type": "markdown",
      "metadata": {
        "id": "1ixusLtI0pqI"
      },
      "source": [
        "We have clean the data in EDA process so there are no nul values"
      ]
    },
    {
      "cell_type": "markdown",
      "metadata": {
        "id": "-oLEiFgy-5Pf"
      },
      "source": [
        "### 2. Feature Manipulation & Selection"
      ]
    },
    {
      "cell_type": "markdown",
      "metadata": {
        "id": "2DejudWSA-a0"
      },
      "source": [
        "\n",
        "###Feature Selection"
      ]
    },
    {
      "cell_type": "markdown",
      "metadata": {
        "id": "QyrnWgqxUbVE"
      },
      "source": [
        "### **For Popularity based Recommendation system**"
      ]
    },
    {
      "cell_type": "code",
      "execution_count": 21,
      "metadata": {
        "id": "YLhe8UmaBCEE"
      },
      "outputs": [],
      "source": [
        "# Select your features wisely to avoid overfitting\n",
        "popu=rb.groupby('Book-Title')['Book-Rating'].count().sort_values(ascending=False).reset_index()\n",
        "popu.columns=['Book-Title','Total Rating']\n",
        "plr=rb.groupby('Book-Title')['Book-Rating'].mean().sort_values(ascending=False).reset_index()\n",
        "plr.columns=['Book-Title','Average Rating']\n",
        "plr.head()\n",
        "popular=pd.merge(popu,plr, how='inner', on='Book-Title')\n",
        "popular=popular[popular['Total Rating']>200].sort_values('Average Rating',ascending=False).head(50)"
      ]
    },
    {
      "cell_type": "markdown",
      "metadata": {
        "id": "pEMng2IbBLp7"
      },
      "source": [
        "##### What all feature selection methods have you used  and why?"
      ]
    },
    {
      "cell_type": "markdown",
      "metadata": {
        "id": "rb2Lh6Z8BgGs"
      },
      "source": [
        "Total Rating:\n",
        "\n",
        "This feature captures the popularity of a book based on how many people have rated it. The more ratings a book has, the more likely it is to be well-known and relevant to a broad audience.\n",
        "\n",
        "Average Rating:\n",
        "\n",
        "This feature reflects how well-received a book is by readers. Even if a book is popular (high total ratings), it might not be recommended if its average rating is too low. Therefore, combining both ensures that you recommend books that are not only popular but also well-liked."
      ]
    },
    {
      "cell_type": "markdown",
      "metadata": {
        "id": "rAdphbQ9Bhjc"
      },
      "source": [
        "##### Which all features you found important and why?"
      ]
    },
    {
      "cell_type": "markdown",
      "metadata": {
        "id": "fGgaEstsBnaf"
      },
      "source": [
        "\n",
        "Total Rating:\n",
        "\n",
        "Why: The total number of ratings a book has received provides insight into its popularity and visibility. Books with more ratings are generally more well-known, which could influence user behavior and further impact average ratings.\n",
        "\n",
        "Average Rating:\n",
        "\n",
        "Why: This feature reflects the overall user satisfaction with a book. It is important for understanding how well the book was received, independent of the number of ratings."
      ]
    },
    {
      "cell_type": "markdown",
      "metadata": {
        "id": "9QZkm9HWZZfw"
      },
      "source": [
        "### **For Collaborative based Recommendation system**"
      ]
    },
    {
      "cell_type": "code",
      "execution_count": 22,
      "metadata": {
        "id": "HUwYNgfbZlZz",
        "colab": {
          "base_uri": "https://localhost:8080/",
          "height": 469
        },
        "outputId": "d47e2a63-8f88-4600-a221-e5e2162ba6a0"
      },
      "outputs": [
        {
          "output_type": "execute_result",
          "data": {
            "text/plain": [
              "    User-ID        ISBN  Book-Rating                              Book-Title  \\\n",
              "37     6543  034545104X            0                    Flesh Tones: A Novel   \n",
              "38     6543  0316666343            0               The Lovely Bones: A Novel   \n",
              "39     6543  0385504209            0                       The Da Vinci Code   \n",
              "40     6543  0971880107            0                             Wild Animus   \n",
              "41     6543  0312966970            0  Four To Score (A Stephanie Plum Novel)   \n",
              "\n",
              "        Book-Author Year-Of-Publication                Publisher  \\\n",
              "37       M. J. Rose                2002         Ballantine Books   \n",
              "38     Alice Sebold                2002            Little, Brown   \n",
              "39        Dan Brown                2003                Doubleday   \n",
              "40     Rich Shapero                2004                  Too Far   \n",
              "41  Janet Evanovich                1999  St. Martin's Paperbacks   \n",
              "\n",
              "                                          Image-URL-S  \\\n",
              "37  http://images.amazon.com/images/P/034545104X.0...   \n",
              "38  http://images.amazon.com/images/P/0316666343.0...   \n",
              "39  http://images.amazon.com/images/P/0385504209.0...   \n",
              "40  http://images.amazon.com/images/P/0971880107.0...   \n",
              "41  http://images.amazon.com/images/P/0312966970.0...   \n",
              "\n",
              "                                          Image-URL-M  \\\n",
              "37  http://images.amazon.com/images/P/034545104X.0...   \n",
              "38  http://images.amazon.com/images/P/0316666343.0...   \n",
              "39  http://images.amazon.com/images/P/0385504209.0...   \n",
              "40  http://images.amazon.com/images/P/0971880107.0...   \n",
              "41  http://images.amazon.com/images/P/0312966970.0...   \n",
              "\n",
              "                                          Image-URL-L  \\\n",
              "37  http://images.amazon.com/images/P/034545104X.0...   \n",
              "38  http://images.amazon.com/images/P/0316666343.0...   \n",
              "39  http://images.amazon.com/images/P/0385504209.0...   \n",
              "40  http://images.amazon.com/images/P/0971880107.0...   \n",
              "41  http://images.amazon.com/images/P/0312966970.0...   \n",
              "\n",
              "                    Location Country  \n",
              "37  strafford, missouri, usa     usa  \n",
              "38  strafford, missouri, usa     usa  \n",
              "39  strafford, missouri, usa     usa  \n",
              "40  strafford, missouri, usa     usa  \n",
              "41  strafford, missouri, usa     usa  "
            ],
            "text/html": [
              "\n",
              "  <div id=\"df-a1efb65b-9e4d-43a8-bfab-0759802378af\" class=\"colab-df-container\">\n",
              "    <div>\n",
              "<style scoped>\n",
              "    .dataframe tbody tr th:only-of-type {\n",
              "        vertical-align: middle;\n",
              "    }\n",
              "\n",
              "    .dataframe tbody tr th {\n",
              "        vertical-align: top;\n",
              "    }\n",
              "\n",
              "    .dataframe thead th {\n",
              "        text-align: right;\n",
              "    }\n",
              "</style>\n",
              "<table border=\"1\" class=\"dataframe\">\n",
              "  <thead>\n",
              "    <tr style=\"text-align: right;\">\n",
              "      <th></th>\n",
              "      <th>User-ID</th>\n",
              "      <th>ISBN</th>\n",
              "      <th>Book-Rating</th>\n",
              "      <th>Book-Title</th>\n",
              "      <th>Book-Author</th>\n",
              "      <th>Year-Of-Publication</th>\n",
              "      <th>Publisher</th>\n",
              "      <th>Image-URL-S</th>\n",
              "      <th>Image-URL-M</th>\n",
              "      <th>Image-URL-L</th>\n",
              "      <th>Location</th>\n",
              "      <th>Country</th>\n",
              "    </tr>\n",
              "  </thead>\n",
              "  <tbody>\n",
              "    <tr>\n",
              "      <th>37</th>\n",
              "      <td>6543</td>\n",
              "      <td>034545104X</td>\n",
              "      <td>0</td>\n",
              "      <td>Flesh Tones: A Novel</td>\n",
              "      <td>M. J. Rose</td>\n",
              "      <td>2002</td>\n",
              "      <td>Ballantine Books</td>\n",
              "      <td>http://images.amazon.com/images/P/034545104X.0...</td>\n",
              "      <td>http://images.amazon.com/images/P/034545104X.0...</td>\n",
              "      <td>http://images.amazon.com/images/P/034545104X.0...</td>\n",
              "      <td>strafford, missouri, usa</td>\n",
              "      <td>usa</td>\n",
              "    </tr>\n",
              "    <tr>\n",
              "      <th>38</th>\n",
              "      <td>6543</td>\n",
              "      <td>0316666343</td>\n",
              "      <td>0</td>\n",
              "      <td>The Lovely Bones: A Novel</td>\n",
              "      <td>Alice Sebold</td>\n",
              "      <td>2002</td>\n",
              "      <td>Little, Brown</td>\n",
              "      <td>http://images.amazon.com/images/P/0316666343.0...</td>\n",
              "      <td>http://images.amazon.com/images/P/0316666343.0...</td>\n",
              "      <td>http://images.amazon.com/images/P/0316666343.0...</td>\n",
              "      <td>strafford, missouri, usa</td>\n",
              "      <td>usa</td>\n",
              "    </tr>\n",
              "    <tr>\n",
              "      <th>39</th>\n",
              "      <td>6543</td>\n",
              "      <td>0385504209</td>\n",
              "      <td>0</td>\n",
              "      <td>The Da Vinci Code</td>\n",
              "      <td>Dan Brown</td>\n",
              "      <td>2003</td>\n",
              "      <td>Doubleday</td>\n",
              "      <td>http://images.amazon.com/images/P/0385504209.0...</td>\n",
              "      <td>http://images.amazon.com/images/P/0385504209.0...</td>\n",
              "      <td>http://images.amazon.com/images/P/0385504209.0...</td>\n",
              "      <td>strafford, missouri, usa</td>\n",
              "      <td>usa</td>\n",
              "    </tr>\n",
              "    <tr>\n",
              "      <th>40</th>\n",
              "      <td>6543</td>\n",
              "      <td>0971880107</td>\n",
              "      <td>0</td>\n",
              "      <td>Wild Animus</td>\n",
              "      <td>Rich Shapero</td>\n",
              "      <td>2004</td>\n",
              "      <td>Too Far</td>\n",
              "      <td>http://images.amazon.com/images/P/0971880107.0...</td>\n",
              "      <td>http://images.amazon.com/images/P/0971880107.0...</td>\n",
              "      <td>http://images.amazon.com/images/P/0971880107.0...</td>\n",
              "      <td>strafford, missouri, usa</td>\n",
              "      <td>usa</td>\n",
              "    </tr>\n",
              "    <tr>\n",
              "      <th>41</th>\n",
              "      <td>6543</td>\n",
              "      <td>0312966970</td>\n",
              "      <td>0</td>\n",
              "      <td>Four To Score (A Stephanie Plum Novel)</td>\n",
              "      <td>Janet Evanovich</td>\n",
              "      <td>1999</td>\n",
              "      <td>St. Martin's Paperbacks</td>\n",
              "      <td>http://images.amazon.com/images/P/0312966970.0...</td>\n",
              "      <td>http://images.amazon.com/images/P/0312966970.0...</td>\n",
              "      <td>http://images.amazon.com/images/P/0312966970.0...</td>\n",
              "      <td>strafford, missouri, usa</td>\n",
              "      <td>usa</td>\n",
              "    </tr>\n",
              "  </tbody>\n",
              "</table>\n",
              "</div>\n",
              "    <div class=\"colab-df-buttons\">\n",
              "\n",
              "  <div class=\"colab-df-container\">\n",
              "    <button class=\"colab-df-convert\" onclick=\"convertToInteractive('df-a1efb65b-9e4d-43a8-bfab-0759802378af')\"\n",
              "            title=\"Convert this dataframe to an interactive table.\"\n",
              "            style=\"display:none;\">\n",
              "\n",
              "  <svg xmlns=\"http://www.w3.org/2000/svg\" height=\"24px\" viewBox=\"0 -960 960 960\">\n",
              "    <path d=\"M120-120v-720h720v720H120Zm60-500h600v-160H180v160Zm220 220h160v-160H400v160Zm0 220h160v-160H400v160ZM180-400h160v-160H180v160Zm440 0h160v-160H620v160ZM180-180h160v-160H180v160Zm440 0h160v-160H620v160Z\"/>\n",
              "  </svg>\n",
              "    </button>\n",
              "\n",
              "  <style>\n",
              "    .colab-df-container {\n",
              "      display:flex;\n",
              "      gap: 12px;\n",
              "    }\n",
              "\n",
              "    .colab-df-convert {\n",
              "      background-color: #E8F0FE;\n",
              "      border: none;\n",
              "      border-radius: 50%;\n",
              "      cursor: pointer;\n",
              "      display: none;\n",
              "      fill: #1967D2;\n",
              "      height: 32px;\n",
              "      padding: 0 0 0 0;\n",
              "      width: 32px;\n",
              "    }\n",
              "\n",
              "    .colab-df-convert:hover {\n",
              "      background-color: #E2EBFA;\n",
              "      box-shadow: 0px 1px 2px rgba(60, 64, 67, 0.3), 0px 1px 3px 1px rgba(60, 64, 67, 0.15);\n",
              "      fill: #174EA6;\n",
              "    }\n",
              "\n",
              "    .colab-df-buttons div {\n",
              "      margin-bottom: 4px;\n",
              "    }\n",
              "\n",
              "    [theme=dark] .colab-df-convert {\n",
              "      background-color: #3B4455;\n",
              "      fill: #D2E3FC;\n",
              "    }\n",
              "\n",
              "    [theme=dark] .colab-df-convert:hover {\n",
              "      background-color: #434B5C;\n",
              "      box-shadow: 0px 1px 3px 1px rgba(0, 0, 0, 0.15);\n",
              "      filter: drop-shadow(0px 1px 2px rgba(0, 0, 0, 0.3));\n",
              "      fill: #FFFFFF;\n",
              "    }\n",
              "  </style>\n",
              "\n",
              "    <script>\n",
              "      const buttonEl =\n",
              "        document.querySelector('#df-a1efb65b-9e4d-43a8-bfab-0759802378af button.colab-df-convert');\n",
              "      buttonEl.style.display =\n",
              "        google.colab.kernel.accessAllowed ? 'block' : 'none';\n",
              "\n",
              "      async function convertToInteractive(key) {\n",
              "        const element = document.querySelector('#df-a1efb65b-9e4d-43a8-bfab-0759802378af');\n",
              "        const dataTable =\n",
              "          await google.colab.kernel.invokeFunction('convertToInteractive',\n",
              "                                                    [key], {});\n",
              "        if (!dataTable) return;\n",
              "\n",
              "        const docLinkHtml = 'Like what you see? Visit the ' +\n",
              "          '<a target=\"_blank\" href=https://colab.research.google.com/notebooks/data_table.ipynb>data table notebook</a>'\n",
              "          + ' to learn more about interactive tables.';\n",
              "        element.innerHTML = '';\n",
              "        dataTable['output_type'] = 'display_data';\n",
              "        await google.colab.output.renderOutput(dataTable, element);\n",
              "        const docLink = document.createElement('div');\n",
              "        docLink.innerHTML = docLinkHtml;\n",
              "        element.appendChild(docLink);\n",
              "      }\n",
              "    </script>\n",
              "  </div>\n",
              "\n",
              "\n",
              "<div id=\"df-d677fbdf-c888-4e6d-8ac1-c4287dc408da\">\n",
              "  <button class=\"colab-df-quickchart\" onclick=\"quickchart('df-d677fbdf-c888-4e6d-8ac1-c4287dc408da')\"\n",
              "            title=\"Suggest charts\"\n",
              "            style=\"display:none;\">\n",
              "\n",
              "<svg xmlns=\"http://www.w3.org/2000/svg\" height=\"24px\"viewBox=\"0 0 24 24\"\n",
              "     width=\"24px\">\n",
              "    <g>\n",
              "        <path d=\"M19 3H5c-1.1 0-2 .9-2 2v14c0 1.1.9 2 2 2h14c1.1 0 2-.9 2-2V5c0-1.1-.9-2-2-2zM9 17H7v-7h2v7zm4 0h-2V7h2v10zm4 0h-2v-4h2v4z\"/>\n",
              "    </g>\n",
              "</svg>\n",
              "  </button>\n",
              "\n",
              "<style>\n",
              "  .colab-df-quickchart {\n",
              "      --bg-color: #E8F0FE;\n",
              "      --fill-color: #1967D2;\n",
              "      --hover-bg-color: #E2EBFA;\n",
              "      --hover-fill-color: #174EA6;\n",
              "      --disabled-fill-color: #AAA;\n",
              "      --disabled-bg-color: #DDD;\n",
              "  }\n",
              "\n",
              "  [theme=dark] .colab-df-quickchart {\n",
              "      --bg-color: #3B4455;\n",
              "      --fill-color: #D2E3FC;\n",
              "      --hover-bg-color: #434B5C;\n",
              "      --hover-fill-color: #FFFFFF;\n",
              "      --disabled-bg-color: #3B4455;\n",
              "      --disabled-fill-color: #666;\n",
              "  }\n",
              "\n",
              "  .colab-df-quickchart {\n",
              "    background-color: var(--bg-color);\n",
              "    border: none;\n",
              "    border-radius: 50%;\n",
              "    cursor: pointer;\n",
              "    display: none;\n",
              "    fill: var(--fill-color);\n",
              "    height: 32px;\n",
              "    padding: 0;\n",
              "    width: 32px;\n",
              "  }\n",
              "\n",
              "  .colab-df-quickchart:hover {\n",
              "    background-color: var(--hover-bg-color);\n",
              "    box-shadow: 0 1px 2px rgba(60, 64, 67, 0.3), 0 1px 3px 1px rgba(60, 64, 67, 0.15);\n",
              "    fill: var(--button-hover-fill-color);\n",
              "  }\n",
              "\n",
              "  .colab-df-quickchart-complete:disabled,\n",
              "  .colab-df-quickchart-complete:disabled:hover {\n",
              "    background-color: var(--disabled-bg-color);\n",
              "    fill: var(--disabled-fill-color);\n",
              "    box-shadow: none;\n",
              "  }\n",
              "\n",
              "  .colab-df-spinner {\n",
              "    border: 2px solid var(--fill-color);\n",
              "    border-color: transparent;\n",
              "    border-bottom-color: var(--fill-color);\n",
              "    animation:\n",
              "      spin 1s steps(1) infinite;\n",
              "  }\n",
              "\n",
              "  @keyframes spin {\n",
              "    0% {\n",
              "      border-color: transparent;\n",
              "      border-bottom-color: var(--fill-color);\n",
              "      border-left-color: var(--fill-color);\n",
              "    }\n",
              "    20% {\n",
              "      border-color: transparent;\n",
              "      border-left-color: var(--fill-color);\n",
              "      border-top-color: var(--fill-color);\n",
              "    }\n",
              "    30% {\n",
              "      border-color: transparent;\n",
              "      border-left-color: var(--fill-color);\n",
              "      border-top-color: var(--fill-color);\n",
              "      border-right-color: var(--fill-color);\n",
              "    }\n",
              "    40% {\n",
              "      border-color: transparent;\n",
              "      border-right-color: var(--fill-color);\n",
              "      border-top-color: var(--fill-color);\n",
              "    }\n",
              "    60% {\n",
              "      border-color: transparent;\n",
              "      border-right-color: var(--fill-color);\n",
              "    }\n",
              "    80% {\n",
              "      border-color: transparent;\n",
              "      border-right-color: var(--fill-color);\n",
              "      border-bottom-color: var(--fill-color);\n",
              "    }\n",
              "    90% {\n",
              "      border-color: transparent;\n",
              "      border-bottom-color: var(--fill-color);\n",
              "    }\n",
              "  }\n",
              "</style>\n",
              "\n",
              "  <script>\n",
              "    async function quickchart(key) {\n",
              "      const quickchartButtonEl =\n",
              "        document.querySelector('#' + key + ' button');\n",
              "      quickchartButtonEl.disabled = true;  // To prevent multiple clicks.\n",
              "      quickchartButtonEl.classList.add('colab-df-spinner');\n",
              "      try {\n",
              "        const charts = await google.colab.kernel.invokeFunction(\n",
              "            'suggestCharts', [key], {});\n",
              "      } catch (error) {\n",
              "        console.error('Error during call to suggestCharts:', error);\n",
              "      }\n",
              "      quickchartButtonEl.classList.remove('colab-df-spinner');\n",
              "      quickchartButtonEl.classList.add('colab-df-quickchart-complete');\n",
              "    }\n",
              "    (() => {\n",
              "      let quickchartButtonEl =\n",
              "        document.querySelector('#df-d677fbdf-c888-4e6d-8ac1-c4287dc408da button');\n",
              "      quickchartButtonEl.style.display =\n",
              "        google.colab.kernel.accessAllowed ? 'block' : 'none';\n",
              "    })();\n",
              "  </script>\n",
              "</div>\n",
              "\n",
              "    </div>\n",
              "  </div>\n"
            ],
            "application/vnd.google.colaboratory.intrinsic+json": {
              "type": "dataframe",
              "variable_name": "filtered_users"
            }
          },
          "metadata": {},
          "execution_count": 22
        }
      ],
      "source": [
        "# Rating Enthusiats\n",
        "x=rb.groupby('User-ID')['Book-Rating'].count().sort_values(ascending=False).reset_index()\n",
        "x.columns=['User-ID','Total Rating']\n",
        "filtered_users=rbu[rbu['User-ID'].isin(x[x['Total Rating']>200]['User-ID'])]\n",
        "filtered_users.head()"
      ]
    },
    {
      "cell_type": "code",
      "execution_count": 23,
      "metadata": {
        "id": "TKi_lPh9dKRw",
        "colab": {
          "base_uri": "https://localhost:8080/"
        },
        "outputId": "303bc526-116a-407f-ed96-d125a668ff0d"
      },
      "outputs": [
        {
          "output_type": "execute_result",
          "data": {
            "text/plain": [
              "(56617, 12)"
            ]
          },
          "metadata": {},
          "execution_count": 23
        }
      ],
      "source": [
        "# Popular Books\n",
        "y=filtered_users.groupby('Book-Title')['Book-Rating'].count().sort_values(ascending=False).reset_index()\n",
        "y.head()\n",
        "y.columns=['Book-Title','Total Rating']\n",
        "final=filtered_users[filtered_users['Book-Title'].isin(y[y['Total Rating']>50]['Book-Title'])]\n",
        "final.shape"
      ]
    },
    {
      "cell_type": "markdown",
      "metadata": {
        "id": "ZD4-6-l-eeVj"
      },
      "source": [
        "## ***Popularity Based Recommendation System***"
      ]
    },
    {
      "cell_type": "code",
      "execution_count": 29,
      "metadata": {
        "id": "7O8R9ZqxezOO",
        "colab": {
          "base_uri": "https://localhost:8080/",
          "height": 1000
        },
        "outputId": "880e0320-d6d7-4986-ec01-0f11b477b9b1"
      },
      "outputs": [
        {
          "output_type": "execute_result",
          "data": {
            "text/plain": [
              "                                              Book-Title          Book-Author  \\\n",
              "0          Ender's Game (Ender Wiggins Saga (Paperback))     Orson Scott Card   \n",
              "249                            The Lovely Bones: A Novel         Alice Sebold   \n",
              "1544                                   The Da Vinci Code            Dan Brown   \n",
              "2442                                      Fahrenheit 451         RAY BRADBURY   \n",
              "2851                 The Red Tent (Bestselling Backlist)        Anita Diamant   \n",
              "3574                             The Secret Life of Bees        Sue Monk Kidd   \n",
              "4348                                          Life of Pi          Yann Martel   \n",
              "5012   The Color of Water: A Black Man's Tribute to H...        James McBride   \n",
              "5235                                           Outlander       DIANA GABALDON   \n",
              "5518                                                1984        George Orwell   \n",
              "5784                               To Kill a Mockingbird           Harper Lee   \n",
              "6294                  The Five People You Meet in Heaven          Mitch Albom   \n",
              "6724                                         Good in Bed      Jennifer Weiner   \n",
              "7214                                  Skipping Christmas         JOHN GRISHAM   \n",
              "7536   Harry Potter and the Sorcerer's Stone (Harry P...        J. K. Rowling   \n",
              "8111   Tuesdays with Morrie: An Old Man, a Young Man,...          MITCH ALBOM   \n",
              "8604      Harry Potter and the Sorcerer's Stone (Book 1)        J. K. Rowling   \n",
              "8882                              The Catcher in the Rye        J.D. Salinger   \n",
              "9318                      Seabiscuit: An American Legend    LAURA HILLENBRAND   \n",
              "9593                                      The Bean Trees   Barbara Kingsolver   \n",
              "9982   Where the Heart Is (Oprah's Book Club (Paperba...         Billie Letts   \n",
              "10567                                     ANGELA'S ASHES        Frank McCourt   \n",
              "10846                           Prodigal Summer: A Novel   Barbara Kingsolver   \n",
              "11099                                    Brave New World        Aldous Huxley   \n",
              "11325   Nickel and Dimed: On (Not) Getting By in America   Barbara Ehrenreich   \n",
              "11660  Left Behind: A Novel of the Earth's Last Days ...           Tim Lahaye   \n",
              "11978  Stupid White Men ...and Other Sorry Excuses fo...        Michael Moore   \n",
              "12261  Fast Food Nation: The Dark Side of the All-Ame...       Eric Schlosser   \n",
              "12582    The Golden Compass (His Dark Materials, Book 1)       PHILIP PULLMAN   \n",
              "12918                                      High Fidelity          Nick Hornby   \n",
              "13165   Harry Potter and the Chamber of Secrets (Book 2)        J. K. Rowling   \n",
              "13721  The Hobbit : The Enchanting Prelude to The Lor...       J.R.R. TOLKIEN   \n",
              "14002                                              Night          Elie Wiesel   \n",
              "14203  Harry Potter and the Order of the Phoenix (Boo...        J. K. Rowling   \n",
              "14550     The Two Towers (The Lord of the Rings, Part 2)     J. R. R. Tolkien   \n",
              "14810      The Subtle Knife (His Dark Materials, Book 2)       Philip Pullman   \n",
              "15035                                        Animal Farm        George Orwell   \n",
              "15268  A Child Called \\It\\\": One Child's Courage to S...          Dave Pelzer   \n",
              "15533               The Hitchhiker's Guide to the Galaxy        Douglas Adams   \n",
              "15801  The Fellowship of the Ring (The Lord of the Ri...       J.R.R. TOLKIEN   \n",
              "16169  The Return of the King (The Lord of the Rings,...       J.R.R. TOLKIEN   \n",
              "16380                                   The Great Gatsby  F. Scott Fitzgerald   \n",
              "16585  Harry Potter and the Prisoner of Azkaban (Book 3)        J. K. Rowling   \n",
              "17013       Harry Potter and the Goblet of Fire (Book 4)        J. K. Rowling   \n",
              "17400                                      American Gods          Neil Gaiman   \n",
              "17702                          Girl with a Pearl Earring      Tracy Chevalier   \n",
              "18228                                    The Tao of Pooh        Benjamin Hoff   \n",
              "18439                                      Into the Wild         Jon Krakauer   \n",
              "18691                                         Neverwhere          Neil Gaiman   \n",
              "18956  A Walk in the Woods: Rediscovering America on ...          Bill Bryson   \n",
              "\n",
              "       Total Rating  Average Rating  \n",
              "0               249        5.409639  \n",
              "249            1295        4.468726  \n",
              "1544            898        4.642539  \n",
              "2442            409        4.264059  \n",
              "2851            723        4.334716  \n",
              "3574            774        4.447028  \n",
              "4348            664        4.088855  \n",
              "5012            223        4.107623  \n",
              "5235            283        4.173145  \n",
              "5518            266        4.473684  \n",
              "5784            510        4.700000  \n",
              "6294            430        4.551163  \n",
              "6724            490        4.055102  \n",
              "7214            322        4.006211  \n",
              "7536            575        4.895652  \n",
              "8111            493        4.354970  \n",
              "8604            278        5.737410  \n",
              "8882            436        4.646789  \n",
              "9318            275        4.098182  \n",
              "9593            389        4.087404  \n",
              "9982            585        4.105983  \n",
              "10567           279        4.075269  \n",
              "10846           253        4.450593  \n",
              "11099           226        4.331858  \n",
              "11325           335        4.289552  \n",
              "11660           318        4.003145  \n",
              "11978           283        4.356890  \n",
              "12261           321        4.037383  \n",
              "12582           336        4.000000  \n",
              "12918           247        4.056680  \n",
              "13165           556        5.183453  \n",
              "13721           281        5.007117  \n",
              "14002           201        4.199005  \n",
              "14203           347        5.501441  \n",
              "14550           260        4.880769  \n",
              "14810           225        4.124444  \n",
              "15035           233        4.274678  \n",
              "15268           265        4.086792  \n",
              "15533           268        4.328358  \n",
              "15801           368        4.948370  \n",
              "16169           211        4.497630  \n",
              "16380           205        4.458537  \n",
              "16585           428        5.852804  \n",
              "17013           387        5.824289  \n",
              "17400           302        4.006623  \n",
              "17702           526        4.218631  \n",
              "18228           211        4.289100  \n",
              "18439           252        4.273810  \n",
              "18691           265        4.449057  \n",
              "18956           205        4.243902  "
            ],
            "text/html": [
              "\n",
              "  <div id=\"df-d681f7bb-d276-479b-b1ed-6ca0fe4ca435\" class=\"colab-df-container\">\n",
              "    <div>\n",
              "<style scoped>\n",
              "    .dataframe tbody tr th:only-of-type {\n",
              "        vertical-align: middle;\n",
              "    }\n",
              "\n",
              "    .dataframe tbody tr th {\n",
              "        vertical-align: top;\n",
              "    }\n",
              "\n",
              "    .dataframe thead th {\n",
              "        text-align: right;\n",
              "    }\n",
              "</style>\n",
              "<table border=\"1\" class=\"dataframe\">\n",
              "  <thead>\n",
              "    <tr style=\"text-align: right;\">\n",
              "      <th></th>\n",
              "      <th>Book-Title</th>\n",
              "      <th>Book-Author</th>\n",
              "      <th>Total Rating</th>\n",
              "      <th>Average Rating</th>\n",
              "    </tr>\n",
              "  </thead>\n",
              "  <tbody>\n",
              "    <tr>\n",
              "      <th>0</th>\n",
              "      <td>Ender's Game (Ender Wiggins Saga (Paperback))</td>\n",
              "      <td>Orson Scott Card</td>\n",
              "      <td>249</td>\n",
              "      <td>5.409639</td>\n",
              "    </tr>\n",
              "    <tr>\n",
              "      <th>249</th>\n",
              "      <td>The Lovely Bones: A Novel</td>\n",
              "      <td>Alice Sebold</td>\n",
              "      <td>1295</td>\n",
              "      <td>4.468726</td>\n",
              "    </tr>\n",
              "    <tr>\n",
              "      <th>1544</th>\n",
              "      <td>The Da Vinci Code</td>\n",
              "      <td>Dan Brown</td>\n",
              "      <td>898</td>\n",
              "      <td>4.642539</td>\n",
              "    </tr>\n",
              "    <tr>\n",
              "      <th>2442</th>\n",
              "      <td>Fahrenheit 451</td>\n",
              "      <td>RAY BRADBURY</td>\n",
              "      <td>409</td>\n",
              "      <td>4.264059</td>\n",
              "    </tr>\n",
              "    <tr>\n",
              "      <th>2851</th>\n",
              "      <td>The Red Tent (Bestselling Backlist)</td>\n",
              "      <td>Anita Diamant</td>\n",
              "      <td>723</td>\n",
              "      <td>4.334716</td>\n",
              "    </tr>\n",
              "    <tr>\n",
              "      <th>3574</th>\n",
              "      <td>The Secret Life of Bees</td>\n",
              "      <td>Sue Monk Kidd</td>\n",
              "      <td>774</td>\n",
              "      <td>4.447028</td>\n",
              "    </tr>\n",
              "    <tr>\n",
              "      <th>4348</th>\n",
              "      <td>Life of Pi</td>\n",
              "      <td>Yann Martel</td>\n",
              "      <td>664</td>\n",
              "      <td>4.088855</td>\n",
              "    </tr>\n",
              "    <tr>\n",
              "      <th>5012</th>\n",
              "      <td>The Color of Water: A Black Man's Tribute to H...</td>\n",
              "      <td>James McBride</td>\n",
              "      <td>223</td>\n",
              "      <td>4.107623</td>\n",
              "    </tr>\n",
              "    <tr>\n",
              "      <th>5235</th>\n",
              "      <td>Outlander</td>\n",
              "      <td>DIANA GABALDON</td>\n",
              "      <td>283</td>\n",
              "      <td>4.173145</td>\n",
              "    </tr>\n",
              "    <tr>\n",
              "      <th>5518</th>\n",
              "      <td>1984</td>\n",
              "      <td>George Orwell</td>\n",
              "      <td>266</td>\n",
              "      <td>4.473684</td>\n",
              "    </tr>\n",
              "    <tr>\n",
              "      <th>5784</th>\n",
              "      <td>To Kill a Mockingbird</td>\n",
              "      <td>Harper Lee</td>\n",
              "      <td>510</td>\n",
              "      <td>4.700000</td>\n",
              "    </tr>\n",
              "    <tr>\n",
              "      <th>6294</th>\n",
              "      <td>The Five People You Meet in Heaven</td>\n",
              "      <td>Mitch Albom</td>\n",
              "      <td>430</td>\n",
              "      <td>4.551163</td>\n",
              "    </tr>\n",
              "    <tr>\n",
              "      <th>6724</th>\n",
              "      <td>Good in Bed</td>\n",
              "      <td>Jennifer Weiner</td>\n",
              "      <td>490</td>\n",
              "      <td>4.055102</td>\n",
              "    </tr>\n",
              "    <tr>\n",
              "      <th>7214</th>\n",
              "      <td>Skipping Christmas</td>\n",
              "      <td>JOHN GRISHAM</td>\n",
              "      <td>322</td>\n",
              "      <td>4.006211</td>\n",
              "    </tr>\n",
              "    <tr>\n",
              "      <th>7536</th>\n",
              "      <td>Harry Potter and the Sorcerer's Stone (Harry P...</td>\n",
              "      <td>J. K. Rowling</td>\n",
              "      <td>575</td>\n",
              "      <td>4.895652</td>\n",
              "    </tr>\n",
              "    <tr>\n",
              "      <th>8111</th>\n",
              "      <td>Tuesdays with Morrie: An Old Man, a Young Man,...</td>\n",
              "      <td>MITCH ALBOM</td>\n",
              "      <td>493</td>\n",
              "      <td>4.354970</td>\n",
              "    </tr>\n",
              "    <tr>\n",
              "      <th>8604</th>\n",
              "      <td>Harry Potter and the Sorcerer's Stone (Book 1)</td>\n",
              "      <td>J. K. Rowling</td>\n",
              "      <td>278</td>\n",
              "      <td>5.737410</td>\n",
              "    </tr>\n",
              "    <tr>\n",
              "      <th>8882</th>\n",
              "      <td>The Catcher in the Rye</td>\n",
              "      <td>J.D. Salinger</td>\n",
              "      <td>436</td>\n",
              "      <td>4.646789</td>\n",
              "    </tr>\n",
              "    <tr>\n",
              "      <th>9318</th>\n",
              "      <td>Seabiscuit: An American Legend</td>\n",
              "      <td>LAURA HILLENBRAND</td>\n",
              "      <td>275</td>\n",
              "      <td>4.098182</td>\n",
              "    </tr>\n",
              "    <tr>\n",
              "      <th>9593</th>\n",
              "      <td>The Bean Trees</td>\n",
              "      <td>Barbara Kingsolver</td>\n",
              "      <td>389</td>\n",
              "      <td>4.087404</td>\n",
              "    </tr>\n",
              "    <tr>\n",
              "      <th>9982</th>\n",
              "      <td>Where the Heart Is (Oprah's Book Club (Paperba...</td>\n",
              "      <td>Billie Letts</td>\n",
              "      <td>585</td>\n",
              "      <td>4.105983</td>\n",
              "    </tr>\n",
              "    <tr>\n",
              "      <th>10567</th>\n",
              "      <td>ANGELA'S ASHES</td>\n",
              "      <td>Frank McCourt</td>\n",
              "      <td>279</td>\n",
              "      <td>4.075269</td>\n",
              "    </tr>\n",
              "    <tr>\n",
              "      <th>10846</th>\n",
              "      <td>Prodigal Summer: A Novel</td>\n",
              "      <td>Barbara Kingsolver</td>\n",
              "      <td>253</td>\n",
              "      <td>4.450593</td>\n",
              "    </tr>\n",
              "    <tr>\n",
              "      <th>11099</th>\n",
              "      <td>Brave New World</td>\n",
              "      <td>Aldous Huxley</td>\n",
              "      <td>226</td>\n",
              "      <td>4.331858</td>\n",
              "    </tr>\n",
              "    <tr>\n",
              "      <th>11325</th>\n",
              "      <td>Nickel and Dimed: On (Not) Getting By in America</td>\n",
              "      <td>Barbara Ehrenreich</td>\n",
              "      <td>335</td>\n",
              "      <td>4.289552</td>\n",
              "    </tr>\n",
              "    <tr>\n",
              "      <th>11660</th>\n",
              "      <td>Left Behind: A Novel of the Earth's Last Days ...</td>\n",
              "      <td>Tim Lahaye</td>\n",
              "      <td>318</td>\n",
              "      <td>4.003145</td>\n",
              "    </tr>\n",
              "    <tr>\n",
              "      <th>11978</th>\n",
              "      <td>Stupid White Men ...and Other Sorry Excuses fo...</td>\n",
              "      <td>Michael Moore</td>\n",
              "      <td>283</td>\n",
              "      <td>4.356890</td>\n",
              "    </tr>\n",
              "    <tr>\n",
              "      <th>12261</th>\n",
              "      <td>Fast Food Nation: The Dark Side of the All-Ame...</td>\n",
              "      <td>Eric Schlosser</td>\n",
              "      <td>321</td>\n",
              "      <td>4.037383</td>\n",
              "    </tr>\n",
              "    <tr>\n",
              "      <th>12582</th>\n",
              "      <td>The Golden Compass (His Dark Materials, Book 1)</td>\n",
              "      <td>PHILIP PULLMAN</td>\n",
              "      <td>336</td>\n",
              "      <td>4.000000</td>\n",
              "    </tr>\n",
              "    <tr>\n",
              "      <th>12918</th>\n",
              "      <td>High Fidelity</td>\n",
              "      <td>Nick Hornby</td>\n",
              "      <td>247</td>\n",
              "      <td>4.056680</td>\n",
              "    </tr>\n",
              "    <tr>\n",
              "      <th>13165</th>\n",
              "      <td>Harry Potter and the Chamber of Secrets (Book 2)</td>\n",
              "      <td>J. K. Rowling</td>\n",
              "      <td>556</td>\n",
              "      <td>5.183453</td>\n",
              "    </tr>\n",
              "    <tr>\n",
              "      <th>13721</th>\n",
              "      <td>The Hobbit : The Enchanting Prelude to The Lor...</td>\n",
              "      <td>J.R.R. TOLKIEN</td>\n",
              "      <td>281</td>\n",
              "      <td>5.007117</td>\n",
              "    </tr>\n",
              "    <tr>\n",
              "      <th>14002</th>\n",
              "      <td>Night</td>\n",
              "      <td>Elie Wiesel</td>\n",
              "      <td>201</td>\n",
              "      <td>4.199005</td>\n",
              "    </tr>\n",
              "    <tr>\n",
              "      <th>14203</th>\n",
              "      <td>Harry Potter and the Order of the Phoenix (Boo...</td>\n",
              "      <td>J. K. Rowling</td>\n",
              "      <td>347</td>\n",
              "      <td>5.501441</td>\n",
              "    </tr>\n",
              "    <tr>\n",
              "      <th>14550</th>\n",
              "      <td>The Two Towers (The Lord of the Rings, Part 2)</td>\n",
              "      <td>J. R. R. Tolkien</td>\n",
              "      <td>260</td>\n",
              "      <td>4.880769</td>\n",
              "    </tr>\n",
              "    <tr>\n",
              "      <th>14810</th>\n",
              "      <td>The Subtle Knife (His Dark Materials, Book 2)</td>\n",
              "      <td>Philip Pullman</td>\n",
              "      <td>225</td>\n",
              "      <td>4.124444</td>\n",
              "    </tr>\n",
              "    <tr>\n",
              "      <th>15035</th>\n",
              "      <td>Animal Farm</td>\n",
              "      <td>George Orwell</td>\n",
              "      <td>233</td>\n",
              "      <td>4.274678</td>\n",
              "    </tr>\n",
              "    <tr>\n",
              "      <th>15268</th>\n",
              "      <td>A Child Called \\It\\\": One Child's Courage to S...</td>\n",
              "      <td>Dave Pelzer</td>\n",
              "      <td>265</td>\n",
              "      <td>4.086792</td>\n",
              "    </tr>\n",
              "    <tr>\n",
              "      <th>15533</th>\n",
              "      <td>The Hitchhiker's Guide to the Galaxy</td>\n",
              "      <td>Douglas Adams</td>\n",
              "      <td>268</td>\n",
              "      <td>4.328358</td>\n",
              "    </tr>\n",
              "    <tr>\n",
              "      <th>15801</th>\n",
              "      <td>The Fellowship of the Ring (The Lord of the Ri...</td>\n",
              "      <td>J.R.R. TOLKIEN</td>\n",
              "      <td>368</td>\n",
              "      <td>4.948370</td>\n",
              "    </tr>\n",
              "    <tr>\n",
              "      <th>16169</th>\n",
              "      <td>The Return of the King (The Lord of the Rings,...</td>\n",
              "      <td>J.R.R. TOLKIEN</td>\n",
              "      <td>211</td>\n",
              "      <td>4.497630</td>\n",
              "    </tr>\n",
              "    <tr>\n",
              "      <th>16380</th>\n",
              "      <td>The Great Gatsby</td>\n",
              "      <td>F. Scott Fitzgerald</td>\n",
              "      <td>205</td>\n",
              "      <td>4.458537</td>\n",
              "    </tr>\n",
              "    <tr>\n",
              "      <th>16585</th>\n",
              "      <td>Harry Potter and the Prisoner of Azkaban (Book 3)</td>\n",
              "      <td>J. K. Rowling</td>\n",
              "      <td>428</td>\n",
              "      <td>5.852804</td>\n",
              "    </tr>\n",
              "    <tr>\n",
              "      <th>17013</th>\n",
              "      <td>Harry Potter and the Goblet of Fire (Book 4)</td>\n",
              "      <td>J. K. Rowling</td>\n",
              "      <td>387</td>\n",
              "      <td>5.824289</td>\n",
              "    </tr>\n",
              "    <tr>\n",
              "      <th>17400</th>\n",
              "      <td>American Gods</td>\n",
              "      <td>Neil Gaiman</td>\n",
              "      <td>302</td>\n",
              "      <td>4.006623</td>\n",
              "    </tr>\n",
              "    <tr>\n",
              "      <th>17702</th>\n",
              "      <td>Girl with a Pearl Earring</td>\n",
              "      <td>Tracy Chevalier</td>\n",
              "      <td>526</td>\n",
              "      <td>4.218631</td>\n",
              "    </tr>\n",
              "    <tr>\n",
              "      <th>18228</th>\n",
              "      <td>The Tao of Pooh</td>\n",
              "      <td>Benjamin Hoff</td>\n",
              "      <td>211</td>\n",
              "      <td>4.289100</td>\n",
              "    </tr>\n",
              "    <tr>\n",
              "      <th>18439</th>\n",
              "      <td>Into the Wild</td>\n",
              "      <td>Jon Krakauer</td>\n",
              "      <td>252</td>\n",
              "      <td>4.273810</td>\n",
              "    </tr>\n",
              "    <tr>\n",
              "      <th>18691</th>\n",
              "      <td>Neverwhere</td>\n",
              "      <td>Neil Gaiman</td>\n",
              "      <td>265</td>\n",
              "      <td>4.449057</td>\n",
              "    </tr>\n",
              "    <tr>\n",
              "      <th>18956</th>\n",
              "      <td>A Walk in the Woods: Rediscovering America on ...</td>\n",
              "      <td>Bill Bryson</td>\n",
              "      <td>205</td>\n",
              "      <td>4.243902</td>\n",
              "    </tr>\n",
              "  </tbody>\n",
              "</table>\n",
              "</div>\n",
              "    <div class=\"colab-df-buttons\">\n",
              "\n",
              "  <div class=\"colab-df-container\">\n",
              "    <button class=\"colab-df-convert\" onclick=\"convertToInteractive('df-d681f7bb-d276-479b-b1ed-6ca0fe4ca435')\"\n",
              "            title=\"Convert this dataframe to an interactive table.\"\n",
              "            style=\"display:none;\">\n",
              "\n",
              "  <svg xmlns=\"http://www.w3.org/2000/svg\" height=\"24px\" viewBox=\"0 -960 960 960\">\n",
              "    <path d=\"M120-120v-720h720v720H120Zm60-500h600v-160H180v160Zm220 220h160v-160H400v160Zm0 220h160v-160H400v160ZM180-400h160v-160H180v160Zm440 0h160v-160H620v160ZM180-180h160v-160H180v160Zm440 0h160v-160H620v160Z\"/>\n",
              "  </svg>\n",
              "    </button>\n",
              "\n",
              "  <style>\n",
              "    .colab-df-container {\n",
              "      display:flex;\n",
              "      gap: 12px;\n",
              "    }\n",
              "\n",
              "    .colab-df-convert {\n",
              "      background-color: #E8F0FE;\n",
              "      border: none;\n",
              "      border-radius: 50%;\n",
              "      cursor: pointer;\n",
              "      display: none;\n",
              "      fill: #1967D2;\n",
              "      height: 32px;\n",
              "      padding: 0 0 0 0;\n",
              "      width: 32px;\n",
              "    }\n",
              "\n",
              "    .colab-df-convert:hover {\n",
              "      background-color: #E2EBFA;\n",
              "      box-shadow: 0px 1px 2px rgba(60, 64, 67, 0.3), 0px 1px 3px 1px rgba(60, 64, 67, 0.15);\n",
              "      fill: #174EA6;\n",
              "    }\n",
              "\n",
              "    .colab-df-buttons div {\n",
              "      margin-bottom: 4px;\n",
              "    }\n",
              "\n",
              "    [theme=dark] .colab-df-convert {\n",
              "      background-color: #3B4455;\n",
              "      fill: #D2E3FC;\n",
              "    }\n",
              "\n",
              "    [theme=dark] .colab-df-convert:hover {\n",
              "      background-color: #434B5C;\n",
              "      box-shadow: 0px 1px 3px 1px rgba(0, 0, 0, 0.15);\n",
              "      filter: drop-shadow(0px 1px 2px rgba(0, 0, 0, 0.3));\n",
              "      fill: #FFFFFF;\n",
              "    }\n",
              "  </style>\n",
              "\n",
              "    <script>\n",
              "      const buttonEl =\n",
              "        document.querySelector('#df-d681f7bb-d276-479b-b1ed-6ca0fe4ca435 button.colab-df-convert');\n",
              "      buttonEl.style.display =\n",
              "        google.colab.kernel.accessAllowed ? 'block' : 'none';\n",
              "\n",
              "      async function convertToInteractive(key) {\n",
              "        const element = document.querySelector('#df-d681f7bb-d276-479b-b1ed-6ca0fe4ca435');\n",
              "        const dataTable =\n",
              "          await google.colab.kernel.invokeFunction('convertToInteractive',\n",
              "                                                    [key], {});\n",
              "        if (!dataTable) return;\n",
              "\n",
              "        const docLinkHtml = 'Like what you see? Visit the ' +\n",
              "          '<a target=\"_blank\" href=https://colab.research.google.com/notebooks/data_table.ipynb>data table notebook</a>'\n",
              "          + ' to learn more about interactive tables.';\n",
              "        element.innerHTML = '';\n",
              "        dataTable['output_type'] = 'display_data';\n",
              "        await google.colab.output.renderOutput(dataTable, element);\n",
              "        const docLink = document.createElement('div');\n",
              "        docLink.innerHTML = docLinkHtml;\n",
              "        element.appendChild(docLink);\n",
              "      }\n",
              "    </script>\n",
              "  </div>\n",
              "\n",
              "\n",
              "<div id=\"df-6238959c-79f7-46bc-8670-8d2985727410\">\n",
              "  <button class=\"colab-df-quickchart\" onclick=\"quickchart('df-6238959c-79f7-46bc-8670-8d2985727410')\"\n",
              "            title=\"Suggest charts\"\n",
              "            style=\"display:none;\">\n",
              "\n",
              "<svg xmlns=\"http://www.w3.org/2000/svg\" height=\"24px\"viewBox=\"0 0 24 24\"\n",
              "     width=\"24px\">\n",
              "    <g>\n",
              "        <path d=\"M19 3H5c-1.1 0-2 .9-2 2v14c0 1.1.9 2 2 2h14c1.1 0 2-.9 2-2V5c0-1.1-.9-2-2-2zM9 17H7v-7h2v7zm4 0h-2V7h2v10zm4 0h-2v-4h2v4z\"/>\n",
              "    </g>\n",
              "</svg>\n",
              "  </button>\n",
              "\n",
              "<style>\n",
              "  .colab-df-quickchart {\n",
              "      --bg-color: #E8F0FE;\n",
              "      --fill-color: #1967D2;\n",
              "      --hover-bg-color: #E2EBFA;\n",
              "      --hover-fill-color: #174EA6;\n",
              "      --disabled-fill-color: #AAA;\n",
              "      --disabled-bg-color: #DDD;\n",
              "  }\n",
              "\n",
              "  [theme=dark] .colab-df-quickchart {\n",
              "      --bg-color: #3B4455;\n",
              "      --fill-color: #D2E3FC;\n",
              "      --hover-bg-color: #434B5C;\n",
              "      --hover-fill-color: #FFFFFF;\n",
              "      --disabled-bg-color: #3B4455;\n",
              "      --disabled-fill-color: #666;\n",
              "  }\n",
              "\n",
              "  .colab-df-quickchart {\n",
              "    background-color: var(--bg-color);\n",
              "    border: none;\n",
              "    border-radius: 50%;\n",
              "    cursor: pointer;\n",
              "    display: none;\n",
              "    fill: var(--fill-color);\n",
              "    height: 32px;\n",
              "    padding: 0;\n",
              "    width: 32px;\n",
              "  }\n",
              "\n",
              "  .colab-df-quickchart:hover {\n",
              "    background-color: var(--hover-bg-color);\n",
              "    box-shadow: 0 1px 2px rgba(60, 64, 67, 0.3), 0 1px 3px 1px rgba(60, 64, 67, 0.15);\n",
              "    fill: var(--button-hover-fill-color);\n",
              "  }\n",
              "\n",
              "  .colab-df-quickchart-complete:disabled,\n",
              "  .colab-df-quickchart-complete:disabled:hover {\n",
              "    background-color: var(--disabled-bg-color);\n",
              "    fill: var(--disabled-fill-color);\n",
              "    box-shadow: none;\n",
              "  }\n",
              "\n",
              "  .colab-df-spinner {\n",
              "    border: 2px solid var(--fill-color);\n",
              "    border-color: transparent;\n",
              "    border-bottom-color: var(--fill-color);\n",
              "    animation:\n",
              "      spin 1s steps(1) infinite;\n",
              "  }\n",
              "\n",
              "  @keyframes spin {\n",
              "    0% {\n",
              "      border-color: transparent;\n",
              "      border-bottom-color: var(--fill-color);\n",
              "      border-left-color: var(--fill-color);\n",
              "    }\n",
              "    20% {\n",
              "      border-color: transparent;\n",
              "      border-left-color: var(--fill-color);\n",
              "      border-top-color: var(--fill-color);\n",
              "    }\n",
              "    30% {\n",
              "      border-color: transparent;\n",
              "      border-left-color: var(--fill-color);\n",
              "      border-top-color: var(--fill-color);\n",
              "      border-right-color: var(--fill-color);\n",
              "    }\n",
              "    40% {\n",
              "      border-color: transparent;\n",
              "      border-right-color: var(--fill-color);\n",
              "      border-top-color: var(--fill-color);\n",
              "    }\n",
              "    60% {\n",
              "      border-color: transparent;\n",
              "      border-right-color: var(--fill-color);\n",
              "    }\n",
              "    80% {\n",
              "      border-color: transparent;\n",
              "      border-right-color: var(--fill-color);\n",
              "      border-bottom-color: var(--fill-color);\n",
              "    }\n",
              "    90% {\n",
              "      border-color: transparent;\n",
              "      border-bottom-color: var(--fill-color);\n",
              "    }\n",
              "  }\n",
              "</style>\n",
              "\n",
              "  <script>\n",
              "    async function quickchart(key) {\n",
              "      const quickchartButtonEl =\n",
              "        document.querySelector('#' + key + ' button');\n",
              "      quickchartButtonEl.disabled = true;  // To prevent multiple clicks.\n",
              "      quickchartButtonEl.classList.add('colab-df-spinner');\n",
              "      try {\n",
              "        const charts = await google.colab.kernel.invokeFunction(\n",
              "            'suggestCharts', [key], {});\n",
              "      } catch (error) {\n",
              "        console.error('Error during call to suggestCharts:', error);\n",
              "      }\n",
              "      quickchartButtonEl.classList.remove('colab-df-spinner');\n",
              "      quickchartButtonEl.classList.add('colab-df-quickchart-complete');\n",
              "    }\n",
              "    (() => {\n",
              "      let quickchartButtonEl =\n",
              "        document.querySelector('#df-6238959c-79f7-46bc-8670-8d2985727410 button');\n",
              "      quickchartButtonEl.style.display =\n",
              "        google.colab.kernel.accessAllowed ? 'block' : 'none';\n",
              "    })();\n",
              "  </script>\n",
              "</div>\n",
              "\n",
              "  <div id=\"id_ccd00391-3c2e-42fe-bcb1-fd4b8435b256\">\n",
              "    <style>\n",
              "      .colab-df-generate {\n",
              "        background-color: #E8F0FE;\n",
              "        border: none;\n",
              "        border-radius: 50%;\n",
              "        cursor: pointer;\n",
              "        display: none;\n",
              "        fill: #1967D2;\n",
              "        height: 32px;\n",
              "        padding: 0 0 0 0;\n",
              "        width: 32px;\n",
              "      }\n",
              "\n",
              "      .colab-df-generate:hover {\n",
              "        background-color: #E2EBFA;\n",
              "        box-shadow: 0px 1px 2px rgba(60, 64, 67, 0.3), 0px 1px 3px 1px rgba(60, 64, 67, 0.15);\n",
              "        fill: #174EA6;\n",
              "      }\n",
              "\n",
              "      [theme=dark] .colab-df-generate {\n",
              "        background-color: #3B4455;\n",
              "        fill: #D2E3FC;\n",
              "      }\n",
              "\n",
              "      [theme=dark] .colab-df-generate:hover {\n",
              "        background-color: #434B5C;\n",
              "        box-shadow: 0px 1px 3px 1px rgba(0, 0, 0, 0.15);\n",
              "        filter: drop-shadow(0px 1px 2px rgba(0, 0, 0, 0.3));\n",
              "        fill: #FFFFFF;\n",
              "      }\n",
              "    </style>\n",
              "    <button class=\"colab-df-generate\" onclick=\"generateWithVariable('recommended_books')\"\n",
              "            title=\"Generate code using this dataframe.\"\n",
              "            style=\"display:none;\">\n",
              "\n",
              "  <svg xmlns=\"http://www.w3.org/2000/svg\" height=\"24px\"viewBox=\"0 0 24 24\"\n",
              "       width=\"24px\">\n",
              "    <path d=\"M7,19H8.4L18.45,9,17,7.55,7,17.6ZM5,21V16.75L18.45,3.32a2,2,0,0,1,2.83,0l1.4,1.43a1.91,1.91,0,0,1,.58,1.4,1.91,1.91,0,0,1-.58,1.4L9.25,21ZM18.45,9,17,7.55Zm-12,3A5.31,5.31,0,0,0,4.9,8.1,5.31,5.31,0,0,0,1,6.5,5.31,5.31,0,0,0,4.9,4.9,5.31,5.31,0,0,0,6.5,1,5.31,5.31,0,0,0,8.1,4.9,5.31,5.31,0,0,0,12,6.5,5.46,5.46,0,0,0,6.5,12Z\"/>\n",
              "  </svg>\n",
              "    </button>\n",
              "    <script>\n",
              "      (() => {\n",
              "      const buttonEl =\n",
              "        document.querySelector('#id_ccd00391-3c2e-42fe-bcb1-fd4b8435b256 button.colab-df-generate');\n",
              "      buttonEl.style.display =\n",
              "        google.colab.kernel.accessAllowed ? 'block' : 'none';\n",
              "\n",
              "      buttonEl.onclick = () => {\n",
              "        google.colab.notebook.generateWithVariable('recommended_books');\n",
              "      }\n",
              "      })();\n",
              "    </script>\n",
              "  </div>\n",
              "\n",
              "    </div>\n",
              "  </div>\n"
            ],
            "application/vnd.google.colaboratory.intrinsic+json": {
              "type": "dataframe",
              "variable_name": "recommended_books",
              "summary": "{\n  \"name\": \"recommended_books\",\n  \"rows\": 50,\n  \"fields\": [\n    {\n      \"column\": \"Book-Title\",\n      \"properties\": {\n        \"dtype\": \"string\",\n        \"num_unique_values\": 50,\n        \"samples\": [\n          \"Skipping Christmas\",\n          \"The Fellowship of the Ring (The Lord of the Rings, Part 1)\",\n          \"Harry Potter and the Chamber of Secrets (Book 2)\"\n        ],\n        \"semantic_type\": \"\",\n        \"description\": \"\"\n      }\n    },\n    {\n      \"column\": \"Book-Author\",\n      \"properties\": {\n        \"dtype\": \"string\",\n        \"num_unique_values\": 40,\n        \"samples\": [\n          \"Billie Letts\",\n          \"J.D. Salinger\",\n          \"MITCH ALBOM\"\n        ],\n        \"semantic_type\": \"\",\n        \"description\": \"\"\n      }\n    },\n    {\n      \"column\": \"Total Rating\",\n      \"properties\": {\n        \"dtype\": \"number\",\n        \"std\": 207,\n        \"min\": 201,\n        \"max\": 1295,\n        \"num_unique_values\": 46,\n        \"samples\": [\n          211,\n          318,\n          321\n        ],\n        \"semantic_type\": \"\",\n        \"description\": \"\"\n      }\n    },\n    {\n      \"column\": \"Average Rating\",\n      \"properties\": {\n        \"dtype\": \"number\",\n        \"std\": 0.49184123600606255,\n        \"min\": 4.0,\n        \"max\": 5.852803738317757,\n        \"num_unique_values\": 50,\n        \"samples\": [\n          4.0062111801242235,\n          4.948369565217392,\n          5.183453237410072\n        ],\n        \"semantic_type\": \"\",\n        \"description\": \"\"\n      }\n    }\n  ]\n}"
            }
          },
          "metadata": {},
          "execution_count": 29
        }
      ],
      "source": [
        "# Top 50 Popular Books\n",
        "recommended=rbu.merge(popular,how='inner',on='Book-Title').drop_duplicates('Book-Title')\n",
        "recommended_books=recommended[['Book-Title','Book-Author','Total Rating','Average Rating']]\n",
        "recommended_books"
      ]
    },
    {
      "cell_type": "markdown",
      "metadata": {
        "id": "A78DEhT_fVqV"
      },
      "source": [
        "Insights:\n",
        "\n",
        "So This are most Popular books in the dataset which always recommended for any user"
      ]
    },
    {
      "cell_type": "markdown",
      "metadata": {
        "id": "MNmgc5omkz43"
      },
      "source": [
        "## ***Collaborative Based Recommendation System***"
      ]
    },
    {
      "cell_type": "code",
      "execution_count": 25,
      "metadata": {
        "id": "xaA1YvPgk5C2",
        "colab": {
          "base_uri": "https://localhost:8080/"
        },
        "outputId": "752b9069-957c-4868-f07b-44988fb80d37"
      },
      "outputs": [
        {
          "output_type": "execute_result",
          "data": {
            "text/plain": [
              "(673, 801)"
            ]
          },
          "metadata": {},
          "execution_count": 25
        }
      ],
      "source": [
        "# Collaborative Recommendation System\n",
        "pivot=final.pivot_table(index='Book-Title',columns='User-ID',values='Book-Rating')\n",
        "pivot.fillna(0,inplace=True)\n",
        "pivot.shape"
      ]
    },
    {
      "cell_type": "code",
      "execution_count": 26,
      "metadata": {
        "id": "3xMbc2Vlm2aI",
        "colab": {
          "base_uri": "https://localhost:8080/"
        },
        "outputId": "b2f31f4c-11cd-4b35-9f8a-e7c62125f366"
      },
      "outputs": [
        {
          "output_type": "execute_result",
          "data": {
            "text/plain": [
              "array([1.        , 0.10255025, 0.01220856, 0.        , 0.05367224,\n",
              "       0.02890522, 0.08216491, 0.13732869, 0.03261686, 0.03667591,\n",
              "       0.02322418, 0.06766487, 0.02118677, 0.09673735, 0.08303112,\n",
              "       0.11153543, 0.05151584, 0.02517784, 0.11706383, 0.        ,\n",
              "       0.14333793, 0.07936111, 0.06150451, 0.08723968, 0.        ,\n",
              "       0.07009814, 0.13658681, 0.07600328, 0.12167134, 0.00768046,\n",
              "       0.01473221, 0.        , 0.07965814, 0.04640011, 0.01556271,\n",
              "       0.09495938, 0.0182307 , 0.02610465, 0.07984012, 0.11679969,\n",
              "       0.0569124 , 0.08572773, 0.08471898, 0.08891734, 0.05491435,\n",
              "       0.0548505 , 0.27777745, 0.09974315, 0.06016046, 0.08958835,\n",
              "       0.06748675, 0.        , 0.04468098, 0.01920872, 0.        ,\n",
              "       0.05712542, 0.00557964, 0.07877059, 0.05219479, 0.18908177,\n",
              "       0.        , 0.01240656, 0.02984572, 0.04279502, 0.12680125,\n",
              "       0.16566735, 0.        , 0.13357242, 0.06615478, 0.        ,\n",
              "       0.        , 0.        , 0.10968075, 0.02902972, 0.04521795,\n",
              "       0.06876131, 0.10519138, 0.03349457, 0.01363458, 0.23669374,\n",
              "       0.        , 0.06248604, 0.06167753, 0.11661083, 0.08331012,\n",
              "       0.00850895, 0.0686114 , 0.        , 0.0328052 , 0.01068915,\n",
              "       0.02579782, 0.02114859, 0.02687779, 0.02175821, 0.        ,\n",
              "       0.01601663, 0.04768603, 0.05819184, 0.06510722, 0.        ,\n",
              "       0.0476705 , 0.05273165, 0.0281001 , 0.06524573, 0.02116345,\n",
              "       0.02097868, 0.07422249, 0.01752778, 0.03734567, 0.01591745,\n",
              "       0.11039448, 0.16527277, 0.15514319, 0.06237454, 0.08139489,\n",
              "       0.05655414, 0.07586751, 0.03771888, 0.0593633 , 0.02955369,\n",
              "       0.03355603, 0.04836533, 0.01006643, 0.01671982, 0.0781602 ,\n",
              "       0.        , 0.        , 0.        , 0.02428501, 0.03067819,\n",
              "       0.0997498 , 0.        , 0.01690152, 0.02410862, 0.0281084 ,\n",
              "       0.        , 0.        , 0.01832786, 0.02880827, 0.05995157,\n",
              "       0.02127671, 0.1034119 , 0.02766748, 0.1112511 , 0.09898722,\n",
              "       0.14145186, 0.05007429, 0.09428289, 0.01411249, 0.07748117,\n",
              "       0.00882242, 0.04515898, 0.        , 0.01281412, 0.04003334,\n",
              "       0.07477661, 0.01245867, 0.01887393, 0.02667484, 0.01432864,\n",
              "       0.14702847, 0.06087282, 0.02578321, 0.02741876, 0.        ,\n",
              "       0.14909595, 0.05606788, 0.        , 0.03199916, 0.0372331 ,\n",
              "       0.        , 0.01962921, 0.22222254, 0.01515845, 0.09673268,\n",
              "       0.02190023, 0.02013549, 0.05400331, 0.07344228, 0.01111637,\n",
              "       0.03649872, 0.05994664, 0.        , 0.14691167, 0.02086005,\n",
              "       0.10359635, 0.09794375, 0.06609997, 0.12871083, 0.08992739,\n",
              "       0.01147457, 0.02460165, 0.18049207, 0.05230334, 0.0477174 ,\n",
              "       0.10849696, 0.13550626, 0.05915288, 0.05372984, 0.034785  ,\n",
              "       0.        , 0.09372207, 0.06388401, 0.04773328, 0.15570975,\n",
              "       0.08420691, 0.12338217, 0.0878469 , 0.08205945, 0.02433703,\n",
              "       0.00272862, 0.        , 0.03769757, 0.15726526, 0.0370943 ,\n",
              "       0.07510991, 0.09831763, 0.0547112 , 0.10329381, 0.07574414,\n",
              "       0.06426526, 0.0360174 , 0.01559752, 0.02033559, 0.02463593,\n",
              "       0.        , 0.02135369, 0.0190337 , 0.06806265, 0.02032116,\n",
              "       0.11784706, 0.08075537, 0.08422558, 0.        , 0.02040796,\n",
              "       0.        , 0.04698246, 0.08294513, 0.13974514, 0.01234525,\n",
              "       0.1386187 , 0.07784406, 0.11841889, 0.05046109, 0.01708351,\n",
              "       0.02633023, 0.05009461, 0.01959826, 0.10174253, 0.13257638,\n",
              "       0.        , 0.0551027 , 0.0186115 , 0.        , 0.04504598,\n",
              "       0.03482459, 0.16722705, 0.08466191, 0.06795353, 0.02987653,\n",
              "       0.        , 0.        , 0.09007846, 0.07885279, 0.04799058,\n",
              "       0.01504021, 0.02123837, 0.08673969, 0.00885998, 0.02880637,\n",
              "       0.02022145, 0.02414122, 0.12644424, 0.        , 0.02482518,\n",
              "       0.06520606, 0.        , 0.0606983 , 0.13974105, 0.02032472,\n",
              "       0.01260824, 0.08608601, 0.04433883, 0.02943085, 0.02242496,\n",
              "       0.06541868, 0.07866868, 0.14281399, 0.11979305, 0.01879875,\n",
              "       0.13445377, 0.09790644, 0.        , 0.17415731, 0.07437756,\n",
              "       0.        , 0.12389065, 0.01067684, 0.02580849, 0.        ,\n",
              "       0.0895139 , 0.04005551, 0.19182231, 0.02267512, 0.01730347,\n",
              "       0.03054044, 0.07008822, 0.10084626, 0.10467615, 0.01683462,\n",
              "       0.1279186 , 0.10266459, 0.03549836, 0.02667484, 0.07652765,\n",
              "       0.08474056, 0.01831977, 0.02177482, 0.15293362, 0.        ,\n",
              "       0.        , 0.01063251, 0.02153089, 0.02946443, 0.        ,\n",
              "       0.02076783, 0.01194825, 0.00953675, 0.2067554 , 0.01554292,\n",
              "       0.0390266 , 0.06851412, 0.09014973, 0.05914735, 0.06339995,\n",
              "       0.        , 0.02005959, 0.07843566, 0.16337845, 0.07161075,\n",
              "       0.        , 0.14595258, 0.02939738, 0.04779629, 0.0178277 ,\n",
              "       0.11362722, 0.09791273, 0.07999693, 0.08912337, 0.10941777,\n",
              "       0.        , 0.02115842, 0.0627053 , 0.01797154, 0.05755408,\n",
              "       0.02166863, 0.09754449, 0.13107652, 0.        , 0.06829904,\n",
              "       0.09132922, 0.        , 0.02781406, 0.0156464 , 0.06113179,\n",
              "       0.01757286, 0.0180158 , 0.11789806, 0.06468143, 0.13904191,\n",
              "       0.        , 0.06671644, 0.        , 0.        , 0.05762086,\n",
              "       0.02266096, 0.00861389, 0.02297481, 0.07136276, 0.15305514,\n",
              "       0.06039874, 0.        , 0.08996912, 0.01545947, 0.10135299,\n",
              "       0.        , 0.01676344, 0.        , 0.05144664, 0.16041182,\n",
              "       0.        , 0.13439733, 0.12508514, 0.02329035, 0.0198727 ,\n",
              "       0.02146101, 0.02548034, 0.00915181, 0.08246122, 0.01902896,\n",
              "       0.07025003, 0.0216367 , 0.12822982, 0.09998772, 0.06355197,\n",
              "       0.02883024, 0.04335826, 0.0470659 , 0.05223733, 0.08982751,\n",
              "       0.00906734, 0.09923542, 0.10394206, 0.        , 0.12465597,\n",
              "       0.01793572, 0.02028125, 0.1033827 , 0.13028171, 0.08988894,\n",
              "       0.09005001, 0.05332049, 0.08033436, 0.04597795, 0.06139888,\n",
              "       0.02304904, 0.06523041, 0.01915363, 0.        , 0.04542766,\n",
              "       0.        , 0.        , 0.05261954, 0.01317088, 0.        ,\n",
              "       0.        , 0.0485931 , 0.0734819 , 0.10571762, 0.01718807,\n",
              "       0.09919937, 0.08091989, 0.00358835, 0.11122765, 0.0533984 ,\n",
              "       0.05747855, 0.        , 0.06087719, 0.10800615, 0.        ,\n",
              "       0.07554686, 0.        , 0.13644384, 0.05012801, 0.16104067,\n",
              "       0.01759864, 0.05438295, 0.        , 0.08100801, 0.13090711,\n",
              "       0.00591085, 0.07150547, 0.05428487, 0.06143184, 0.05161653,\n",
              "       0.1951182 , 0.1149488 , 0.06513047, 0.06401961, 0.        ,\n",
              "       0.        , 0.10853662, 0.11400426, 0.0463925 , 0.01825277,\n",
              "       0.        , 0.01195201, 0.21057744, 0.05809707, 0.04430017,\n",
              "       0.0269391 , 0.07276403, 0.05264857, 0.07373517, 0.06888796,\n",
              "       0.01626564, 0.02431809, 0.02093565, 0.13617057, 0.11784149,\n",
              "       0.08588206, 0.09284352, 0.11423306, 0.06868983, 0.08200947,\n",
              "       0.13369059, 0.        , 0.19972625, 0.02286207, 0.0806288 ,\n",
              "       0.        , 0.05756015, 0.06738056, 0.19656288, 0.06421009,\n",
              "       0.03499381, 0.06123119, 0.02180168, 0.02317515, 0.06476149,\n",
              "       0.07052241, 0.08280452, 0.1700872 , 0.07213921, 0.01172201,\n",
              "       0.08541218, 0.18643426, 0.08007284, 0.01739625, 0.16728777,\n",
              "       0.26396194, 0.1840891 , 0.05600273, 0.04133586, 0.06911015,\n",
              "       0.14456847, 0.22626397, 0.19208896, 0.02670423, 0.20025064,\n",
              "       0.01507653, 0.05144282, 0.1233368 , 0.1420166 , 0.08702406,\n",
              "       0.02363426, 0.12794024, 0.01083153, 0.07352436, 0.03421895,\n",
              "       0.07194212, 0.02297079, 0.15344079, 0.08948171, 0.        ,\n",
              "       0.        , 0.01878656, 0.09772942, 0.04404359, 0.15269585,\n",
              "       0.0152225 , 0.10439339, 0.05715789, 0.04600056, 0.06303899,\n",
              "       0.06634838, 0.14421331, 0.        , 0.04203701, 0.02276077,\n",
              "       0.17381829, 0.01963686, 0.16333214, 0.        , 0.05940546,\n",
              "       0.07889963, 0.07464763, 0.06546696, 0.07021577, 0.18921368,\n",
              "       0.02494136, 0.01705027, 0.05437622, 0.04932819, 0.        ,\n",
              "       0.11445399, 0.08001595, 0.12858515, 0.02306658, 0.06129105,\n",
              "       0.02090769, 0.04754081, 0.1026659 , 0.10725982, 0.0260534 ,\n",
              "       0.00173709, 0.0987294 , 0.08077482, 0.02159226, 0.01614275,\n",
              "       0.0208464 , 0.09882091, 0.01906731, 0.18571699, 0.05344577,\n",
              "       0.18925314, 0.05894189, 0.01488161, 0.1202478 , 0.09840359,\n",
              "       0.01048126, 0.10596224, 0.07617195, 0.0805439 , 0.        ,\n",
              "       0.23591671, 0.01073642, 0.13573542, 0.04578552, 0.15148059,\n",
              "       0.        , 0.12522954, 0.0645501 , 0.02817522, 0.14445559,\n",
              "       0.01721045, 0.09508161, 0.0517902 , 0.18410818, 0.10850377,\n",
              "       0.03954865, 0.0383631 , 0.02463491, 0.07845405, 0.03455548,\n",
              "       0.03007681, 0.02484076, 0.04223674, 0.14444517, 0.12839028,\n",
              "       0.01532894, 0.0284437 , 0.02132016, 0.07391778, 0.08904276,\n",
              "       0.16147713, 0.07130972, 0.01060787, 0.        , 0.09993169,\n",
              "       0.05711356, 0.09488374, 0.13365876, 0.05794064, 0.        ,\n",
              "       0.06721284, 0.02066998, 0.        , 0.01839428, 0.        ,\n",
              "       0.13215432, 0.08494907, 0.09095705, 0.00730589, 0.08143881,\n",
              "       0.        , 0.04218803, 0.08392849, 0.07785801, 0.07151794,\n",
              "       0.02407593, 0.01639229, 0.03734567, 0.05237227, 0.01140169,\n",
              "       0.00968725, 0.12530648, 0.00909905, 0.05864096, 0.01769644,\n",
              "       0.12110367, 0.07347567, 0.04402619])"
            ]
          },
          "metadata": {},
          "execution_count": 26
        }
      ],
      "source": [
        "# Cosine Simality\n",
        "from sklearn.metrics.pairwise import cosine_similarity\n",
        "similarity_score=cosine_similarity(pivot)\n",
        "similarity_score[0]"
      ]
    },
    {
      "cell_type": "code",
      "source": [
        "def recommend(book_name):\n",
        "  index=np.where(pivot.index==book_name)[0][0]\n",
        "  similar_items=sorted(list(enumerate(similarity_score[index])),key=lambda x:x[1],reverse=True)[1:6]\n",
        "  data=[]\n",
        "  for i in similar_items:\n",
        "    item=[]\n",
        "    temp_df=final[final['Book-Title']==pivot.index[i[0]]]\n",
        "    item.extend(list(temp_df.drop_duplicates('Book-Title')['Book-Title'].values))\n",
        "    item.extend(list(temp_df.drop_duplicates('Book-Title')['Book-Author'].values))\n",
        "    item.extend(list(temp_df.drop_duplicates('Book-Title')['Image-URL-M'].values))\n",
        "    data.append(item)\n",
        "  return data\n",
        "movie=input('Enter the book name:')\n",
        "print('Recommended Books:')\n",
        "for i in recommend(movie):\n",
        "  print(i[0])"
      ],
      "metadata": {
        "colab": {
          "base_uri": "https://localhost:8080/"
        },
        "id": "2xs0idM817LD",
        "outputId": "784fd719-86bf-4f16-e4d8-f58d2bcbefb2"
      },
      "execution_count": 30,
      "outputs": [
        {
          "output_type": "stream",
          "name": "stdout",
          "text": [
            "Enter the book name:1984\n",
            "Recommended Books:\n",
            "Animal Farm\n",
            "The Handmaid's Tale\n",
            "Brave New World\n",
            "The Vampire Lestat (Vampire Chronicles, Book II)\n",
            "The Hours : A Novel\n"
          ]
        }
      ]
    },
    {
      "cell_type": "markdown",
      "metadata": {
        "id": "gCX9965dhzqZ"
      },
      "source": [
        "# **Conclusion**"
      ]
    },
    {
      "cell_type": "markdown",
      "metadata": {
        "id": "Fjb1IsQkh3yE"
      },
      "source": [
        "Book Popularity: The book \"Wild and Anxious\" stands out as a highly popular title, while reader preferences for other books seem evenly distributed.\n",
        "\n",
        "User Activity: There is a notable disparity in user engagement, with User ID 11676 being the most active, and clusters of users contributing different volumes of ratings.\n",
        "\n",
        "Geographic Insights:\n",
        "\n",
        "USA Dominance: The USA accounts for 57.1% of the user base, dominating book-related activity.\n",
        "Regional Concentration: The dataset mainly features users from North America, Europe, and Oceania, while countries like Portugal, France, and Italy contribute less.\n",
        "Unrated Books: A large number of books remain unrated, highlighting the need for initiatives to boost user interaction and book reviews.\n",
        "\n",
        "Recommendation System: Based on these insights, implementing a collaborative filtering system and a popular book recommendation system would enhance the platform’s ability to recommend books to users effectively."
      ]
    },
    {
      "cell_type": "markdown",
      "metadata": {
        "id": "gIfDvo9L0UH2"
      },
      "source": [
        "### ***Hurrah! You have successfully completed your Machine Learning Capstone Project !!!***"
      ]
    }
  ],
  "metadata": {
    "colab": {
      "collapsed_sections": [
        "7hBIi_osiCS2",
        "35m5QtbWiB9F",
        "MSa1f5Uengrz",
        "K5QZ13OEpz2H",
        "lQ7QKXXCp7Bj",
        "t6dVpIINYklI",
        "fge-S5ZAYoAp",
        "85gYPyotYoAp",
        "RoGjAbkUYoAp",
        "iky9q4vBYrdO",
        "y-Ehk30pYrdP",
        "EXh0U9oCveiU",
        "22aHeOlLveiV",
        "gIfDvo9L0UH2"
      ],
      "provenance": [],
      "include_colab_link": true
    },
    "kernelspec": {
      "display_name": "Python 3",
      "name": "python3"
    },
    "language_info": {
      "name": "python"
    }
  },
  "nbformat": 4,
  "nbformat_minor": 0
}